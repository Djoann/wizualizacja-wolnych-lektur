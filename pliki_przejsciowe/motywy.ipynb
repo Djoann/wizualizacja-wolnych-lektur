{
 "metadata": {
  "name": "motywy"
 },
 "nbformat": 3,
 "nbformat_minor": 0,
 "worksheets": [
  {
   "cells": [
    {
     "cell_type": "code",
     "collapsed": false,
     "input": [
      "import simplejson as json\n",
      "import requests"
     ],
     "language": "python",
     "metadata": {},
     "outputs": [],
     "prompt_number": 5
    },
    {
     "cell_type": "code",
     "collapsed": false,
     "input": [
      "book_motifs = json.load(open(\"book_motifs.json\"))"
     ],
     "language": "python",
     "metadata": {},
     "outputs": [],
     "prompt_number": 3
    },
    {
     "cell_type": "code",
     "collapsed": false,
     "input": [
      "book_motifs[:2]"
     ],
     "language": "python",
     "metadata": {},
     "outputs": [
      {
       "output_type": "pyout",
       "prompt_number": 4,
       "text": [
        "[{'author': u'Tristan Der\\xe8me',\n",
        "  'motifs': [['Kondycja ludzka', 'kondycja-ludzka', 1], ['Poeta', 'poeta', 1]],\n",
        "  'title': u'(Ach! rzuci\\u0107 sieci zdarte...)'},\n",
        " {'author': u'Marceli Ska\\u0142kowski',\n",
        "  'motifs': [[u'Bro\\u0144', 'bron', 1],\n",
        "   ['Patriota', 'patriota', 1],\n",
        "   ['Polityka', 'polityka', 1],\n",
        "   ['Powstanie', 'powstanie', 1],\n",
        "   ['Religia', 'religia', 1],\n",
        "   ['Wiara', 'wiara', 1],\n",
        "   ['Wojna', 'wojna', 1],\n",
        "   [u'Wr\\xf3g', 'wrog', 1]],\n",
        "  'title': '(Bartoszu, Bartoszu...)'}]"
       ]
      }
     ],
     "prompt_number": 4
    },
    {
     "cell_type": "code",
     "collapsed": false,
     "input": [
      "motif_dict = {}\n",
      "for el in book_motifs:\n",
      "    for motif in el[\"motifs\"]:\n",
      "        motif_dict[motif[1]] = motif[0]"
     ],
     "language": "python",
     "metadata": {},
     "outputs": [],
     "prompt_number": 20
    },
    {
     "cell_type": "code",
     "collapsed": false,
     "input": [
      "book_motifs = json.load(open(\"book_motifs.json\"))\n",
      "\n",
      "motif_counts = {}\n",
      "for el in book_motifs:\n",
      "    for motif in el[\"motifs\"]:\n",
      "        try:\n",
      "            motif_counts[motif[1]] += motif[2]\n",
      "        except:\n",
      "            motif_counts[motif[1]] = motif[2]\n",
      "\n",
      "sorted(motif_counts.items(), key=lambda x: -x[1])[:10]\n",
      "\n",
      "motif_pair_counts = {}\n",
      "for el in book_motifs:\n",
      "    for motif1 in el[\"motifs\"]:\n",
      "        for motif2 in el[\"motifs\"]:\n",
      "            if motif1[1] < motif2[1]:\n",
      "                try:\n",
      "                    motif_pair_counts[(motif1[1], motif2[1])] += motif1[2] * motif2[2]\n",
      "                except:\n",
      "                    motif_pair_counts[(motif1[1], motif2[1])] = motif1[2] * motif2[2]\n",
      "\n",
      "sorted(motif_pair_counts.items(), key=lambda x: -x[1])[:10]\n",
      "\n",
      "motif_pair_correl = {}\n",
      "for el in book_motifs:\n",
      "    motif_count_in_book = float(sum([motif[2] for motif in el[\"motifs\"]]))\n",
      "    for motif1 in el[\"motifs\"]:\n",
      "        for motif2 in el[\"motifs\"]:\n",
      "            if motif1[1] < motif2[1]:\n",
      "                try:\n",
      "                    motif_pair_correl[(motif1[1], motif2[1])] += motif1[2] * motif2[2] / motif_count_in_book\n",
      "                except:\n",
      "                    motif_pair_correl[(motif1[1], motif2[1])] = motif1[2] * motif2[2] / motif_count_in_book\n",
      "# jeszcze nie dzielone prze sume motywow\n",
      "\n",
      "sorted(motif_pair_correl.items(), key=lambda x: -x[1])[:10]\n",
      "\n",
      "def oe_ratio(n, nx, ny, nxy):\n",
      "    return float(n) * float(nxy) / (float(nx) * float(ny))"
     ],
     "language": "python",
     "metadata": {},
     "outputs": [],
     "prompt_number": 8
    },
    {
     "cell_type": "code",
     "collapsed": false,
     "input": [
      "def calc_motif_eo(counts_dict, pair_count_dict, no_of_books, min_count=0,\n",
      "                  eo_threshold=0):\n",
      "    motif_eo = []\n",
      "    pairs = pair_count_dict.items()\n",
      "    for pair, count in pairs:\n",
      "        nx = counts_dict[pair[0]]\n",
      "        ny = counts_dict[pair[1]]\n",
      "        eo = oe_ratio(n=no_of_books, nx=nx, ny=ny, nxy=pair_count_dict[pair])\n",
      "        if nx > min_count and ny > min_count and eo > eo_threshold:\n",
      "            motif_eo.append((pair, eo))\n",
      "    motif_eo.sort(key=lambda x: -x[-1])\n",
      "    return motif_eo"
     ],
     "language": "python",
     "metadata": {},
     "outputs": [],
     "prompt_number": 6
    },
    {
     "cell_type": "code",
     "collapsed": false,
     "input": [
      "total_motif_count = sum(motif_counts.values())"
     ],
     "language": "python",
     "metadata": {},
     "outputs": [],
     "prompt_number": 10
    },
    {
     "cell_type": "code",
     "collapsed": false,
     "input": [
      "motif_eo_200_t1d5 = calc_motif_eo(motif_counts, motif_pair_correl, total_motif_count,\n",
      "                          min_count=200, eo_threshold=1.5)"
     ],
     "language": "python",
     "metadata": {},
     "outputs": [],
     "prompt_number": 11
    },
    {
     "cell_type": "code",
     "collapsed": false,
     "input": [
      "motif_eo_200_t1d5[:50]"
     ],
     "language": "python",
     "metadata": {},
     "outputs": [
      {
       "output_type": "pyout",
       "prompt_number": 13,
       "text": [
        "[(('poeta', 'poezja'), 6.5563465441023085),\n",
        " (('handel', 'zyd'), 4.4859843411834124),\n",
        " (('maz', 'zona'), 4.3686210608202201),\n",
        " (('alkohol', 'pijanstwo'), 3.9106017849463752),\n",
        " (('oko', 'wzrok'), 3.7771092389956329),\n",
        " (('wojna', 'zolnierz'), 3.7627048411659239),\n",
        " (('czas', 'przemijanie'), 3.7445463832689891),\n",
        " (('ojczyzna', 'patriota'), 3.5755500287255715),\n",
        " (('patriota', 'polityka'), 3.3834528801432153),\n",
        " (('mlodosc', 'starosc'), 3.2695875249479873),\n",
        " (('interes', 'miasto'), 3.2449710231584579),\n",
        " (('matka', 'syn'), 3.199571693458874),\n",
        " (('historia', 'polak'), 3.1542106900544455),\n",
        " (('natura', 'woda'), 3.1438031224391039),\n",
        " (('patriota', 'zolnierz'), 3.077763970432418),\n",
        " (('ojciec', 'syn'), 3.0168814665796639),\n",
        " (('polityka', 'wojna'), 3.0022194417788879),\n",
        " (('czary', 'tajemnica'), 2.991170213837576),\n",
        " (('grzech', 'kara'), 2.9903479742307768),\n",
        " (('patriota', 'wojna'), 2.9566170176586755),\n",
        " (('chlop', 'wies'), 2.9427423606045817),\n",
        " (('drzewo', 'natura'), 2.9422246953929534),\n",
        " (('grob', 'trup'), 2.9120505991864274),\n",
        " (('ojczyzna', 'polak'), 2.9062249522840373),\n",
        " (('polityka', 'zolnierz'), 2.9014280413063531),\n",
        " (('noc', 'sen'), 2.9005870267401823),\n",
        " (('aniol', 'dusza'), 2.8988514861485388),\n",
        " (('handel', 'interes'), 2.8553472121464969),\n",
        " (('drzewo', 'kwiaty'), 2.8333257054485572),\n",
        " (('malzenstwo', 'maz'), 2.8145201115149061),\n",
        " (('walka', 'wrog'), 2.7861946594789666),\n",
        " (('muzyka', 'spiew'), 2.7828762857944529),\n",
        " (('swiatlo', 'woda'), 2.7756601729171799),\n",
        " (('interes', 'pieniadz'), 2.7733984828590832),\n",
        " (('rycerz', 'walka'), 2.7681831866789968),\n",
        " (('patriota', 'slawa'), 2.7662194409878316),\n",
        " (('cnota', 'madrosc'), 2.7525737910211894),\n",
        " (('duch', 'woda'), 2.7431261603017085),\n",
        " (('grob', 'historia'), 2.7102820346577263),\n",
        " (('interes', 'zyd'), 2.6957043589669989),\n",
        " (('kochanek', 'milosc'), 2.6920626714844413),\n",
        " (('ksiazka', 'nauka'), 2.681822639587931),\n",
        " (('dziecko', 'matka'), 2.6712971428945349),\n",
        " (('chlop', 'szlachcic'), 2.6694861289031477),\n",
        " (('krol', 'rycerz'), 2.6635023243146629),\n",
        " (('okrucienstwo', 'polityka'), 2.6487896782654481),\n",
        " (('okrucienstwo', 'wojna'), 2.6166835116122904),\n",
        " (('honor', 'wojna'), 2.6164932092392785),\n",
        " (('bogactwo', 'pieniadz'), 2.6108817669835704),\n",
        " (('malzenstwo', 'zona'), 2.5933781943225465)]"
       ]
      }
     ],
     "prompt_number": 13
    },
    {
     "cell_type": "code",
     "collapsed": false,
     "input": [
      "pre_nodes = sorted(filter(lambda x: x[1] > 200, motif_counts.items()), key=lambda x: -x[1])"
     ],
     "language": "python",
     "metadata": {},
     "outputs": [],
     "prompt_number": 19
    },
    {
     "cell_type": "code",
     "collapsed": false,
     "input": [
      "nodes = [{\"name\": k, \"count\": v, \"display\": motif_dict[k]} for k, v in pre_nodes]"
     ],
     "language": "python",
     "metadata": {},
     "outputs": [],
     "prompt_number": 21
    },
    {
     "cell_type": "code",
     "collapsed": false,
     "input": [
      "nodes"
     ],
     "language": "python",
     "metadata": {},
     "outputs": [
      {
       "output_type": "pyout",
       "prompt_number": 22,
       "text": [
        "[{'count': 1695, 'display': 'Kobieta', 'name': 'kobieta'},\n",
        " {'count': 1484, 'display': u'Mi\\u0142o\\u015b\\u0107', 'name': 'milosc'},\n",
        " {'count': 1201, 'display': u'\\u015amier\\u0107', 'name': 'smierc'},\n",
        " {'count': 998, 'display': 'Obyczaje', 'name': 'obyczaje'},\n",
        " {'count': 818, 'display': 'Kondycja ludzka', 'name': 'kondycja-ludzka'},\n",
        " {'count': 683,\n",
        "  'display': u'Pozycja spo\\u0142eczna',\n",
        "  'name': 'pozycja-spoleczna'},\n",
        " {'count': 683, 'display': u'M\\u0119\\u017cczyzna', 'name': 'mezczyzna'},\n",
        " {'count': 662, 'display': u'B\\xf3g', 'name': 'bog'},\n",
        " {'count': 634, 'display': 'Szlachcic', 'name': 'szlachcic'},\n",
        " {'count': 598, 'display': u'S\\u0142uga', 'name': 'sluga'},\n",
        " {'count': 584, 'display': 'Religia', 'name': 'religia'},\n",
        " {'count': 560, 'display': u'Pieni\\u0105dz', 'name': 'pieniadz'},\n",
        " {'count': 557, 'display': u'W\\u0142adza', 'name': 'wladza'},\n",
        " {'count': 545, 'display': 'Praca', 'name': 'praca'},\n",
        " {'count': 534, 'display': 'Walka', 'name': 'walka'},\n",
        " {'count': 532, 'display': 'Sen', 'name': 'sen'},\n",
        " {'count': 527, 'display': u'Ma\\u0142\\u017ce\\u0144stwo', 'name': 'malzenstwo'},\n",
        " {'count': 519, 'display': 'Cierpienie', 'name': 'cierpienie'},\n",
        " {'count': 510, 'display': 'Dziecko', 'name': 'dziecko'},\n",
        " {'count': 508, 'display': 'Wojna', 'name': 'wojna'},\n",
        " {'count': 477, 'display': u'Cia\\u0142o', 'name': 'cialo'},\n",
        " {'count': 443, 'display': 'Ojciec', 'name': 'ojciec'},\n",
        " {'count': 432, 'display': u'\\u017bo\\u0142nierz', 'name': 'zolnierz'},\n",
        " {'count': 428, 'display': u'\\u0141zy', 'name': 'lzy'},\n",
        " {'count': 420, 'display': u'\\u017bona', 'name': 'zona'},\n",
        " {'count': 412, 'display': 'Miasto', 'name': 'miasto'},\n",
        " {'count': 412, 'display': u'Ch\\u0142op', 'name': 'chlop'},\n",
        " {'count': 406, 'display': u'S\\u0142owo', 'name': 'slowo'},\n",
        " {'count': 403, 'display': 'Zdrada', 'name': 'zdrada'},\n",
        " {'count': 401, 'display': 'Choroba', 'name': 'choroba'},\n",
        " {'count': 401, 'display': 'Bogactwo', 'name': 'bogactwo'},\n",
        " {'count': 401, 'display': 'Ptak', 'name': 'ptak'},\n",
        " {'count': 396, 'display': 'Matka', 'name': 'matka'},\n",
        " {'count': 394, 'display': u'Staro\\u015b\\u0107', 'name': 'starosc'},\n",
        " {'count': 386, 'display': 'Ojczyzna', 'name': 'ojczyzna'},\n",
        " {'count': 373, 'display': 'Strach', 'name': 'strach'},\n",
        " {'count': 372, 'display': 'Zemsta', 'name': 'zemsta'},\n",
        " {'count': 370, 'display': 'Duch', 'name': 'duch'},\n",
        " {'count': 369, 'display': 'Grzech', 'name': 'grzech'},\n",
        " {'count': 362, 'display': 'Krew', 'name': 'krew'},\n",
        " {'count': 362, 'display': 'Kara', 'name': 'kara'},\n",
        " {'count': 361, 'display': 'Poeta', 'name': 'poeta'},\n",
        " {'count': 358, 'display': 'Jedzenie', 'name': 'jedzenie'},\n",
        " {'count': 357, 'display': 'Rycerz', 'name': 'rycerz'},\n",
        " {'count': 355, 'display': u'M\\u0142odo\\u015b\\u0107', 'name': 'mlodosc'},\n",
        " {'count': 352, 'display': u'Ksi\\u0105dz', 'name': 'ksiadz'},\n",
        " {'count': 350, 'display': u'Kr\\xf3l', 'name': 'krol'},\n",
        " {'count': 347, 'display': u'Obraz \\u015bwiata', 'name': 'obraz-swiata'},\n",
        " {'count': 337, 'display': 'Polityka', 'name': 'polityka'},\n",
        " {'count': 335, 'display': 'Los', 'name': 'los'},\n",
        " {'count': 331, 'display': u'Str\\xf3j', 'name': 'stroj'},\n",
        " {'count': 330, 'display': 'Modlitwa', 'name': 'modlitwa'},\n",
        " {'count': 328, 'display': 'Poezja', 'name': 'poezja'},\n",
        " {'count': 326, 'display': 'Trup', 'name': 'trup'},\n",
        " {'count': 319, 'display': 'Dom', 'name': 'dom'},\n",
        " {'count': 319, 'display': u'\\u015amiech', 'name': 'smiech'},\n",
        " {'count': 318, 'display': 'Bieda', 'name': 'bieda'},\n",
        " {'count': 316, 'display': 'Przemiana', 'name': 'przemiana'},\n",
        " {'count': 314, 'display': 'Czary', 'name': 'czary'},\n",
        " {'count': 313, 'display': 'Przemoc', 'name': 'przemoc'},\n",
        " {'count': 309, 'display': u'Podst\\u0119p', 'name': 'podstep'},\n",
        " {'count': 308, 'display': 'Kochanek', 'name': 'kochanek'},\n",
        " {'count': 301, 'display': u'M\\u0105\\u017c', 'name': 'maz'},\n",
        " {'count': 300, 'display': 'Natura', 'name': 'natura'},\n",
        " {'count': 298, 'display': 'Syn', 'name': 'syn'},\n",
        " {'count': 296, 'display': u'M\\u0105dro\\u015b\\u0107', 'name': 'madrosc'},\n",
        " {'count': 294, 'display': u'Szcz\\u0119\\u015bcie', 'name': 'szczescie'},\n",
        " {'count': 291, 'display': u'Zwierz\\u0119ta', 'name': 'zwierzeta'},\n",
        " {'count': 290, 'display': 'Nauka', 'name': 'nauka'},\n",
        " {'count': 289, 'display': 'Dusza', 'name': 'dusza'},\n",
        " {'count': 286, 'display': 'Przemijanie', 'name': 'przemijanie'},\n",
        " {'count': 286, 'display': 'Polak', 'name': 'polak'},\n",
        " {'count': 284, 'display': 'Czas', 'name': 'czas'},\n",
        " {'count': 282, 'display': 'Zabawa', 'name': 'zabawa'},\n",
        " {'count': 281, 'display': 'Serce', 'name': 'serce'},\n",
        " {'count': 272, 'display': 'Cnota', 'name': 'cnota'},\n",
        " {'count': 265, 'display': 'Pozory', 'name': 'pozory'},\n",
        " {'count': 262,\n",
        "  'display': u'Sprawiedliwo\\u015b\\u0107',\n",
        "  'name': 'sprawiedliwosc'},\n",
        " {'count': 260, 'display': 'Oko', 'name': 'oko'},\n",
        " {'count': 253, 'display': u'Ksi\\u0105\\u017cka', 'name': 'ksiazka'},\n",
        " {'count': 253, 'display': 'Patriota', 'name': 'patriota'},\n",
        " {'count': 249, 'display': 'Noc', 'name': 'noc'},\n",
        " {'count': 249, 'display': u'\\u017byd', 'name': 'zyd'},\n",
        " {'count': 249, 'display': 'Historia', 'name': 'historia'},\n",
        " {'count': 249, 'display': u'Przyja\\u017a\\u0144', 'name': 'przyjazn'},\n",
        " {'count': 248, 'display': 'Tajemnica', 'name': 'tajemnica'},\n",
        " {'count': 248, 'display': 'Woda', 'name': 'woda'},\n",
        " {'count': 248, 'display': 'Alkohol', 'name': 'alkohol'},\n",
        " {'count': 246, 'display': u'\\u015awiat\\u0142o', 'name': 'swiatlo'},\n",
        " {'count': 244, 'display': u'Podr\\xf3\\u017c', 'name': 'podroz'},\n",
        " {'count': 241, 'display': 'Interes', 'name': 'interes'},\n",
        " {'count': 238, 'display': 'Drzewo', 'name': 'drzewo'},\n",
        " {'count': 237, 'display': 'Marzenie', 'name': 'marzenie'},\n",
        " {'count': 235, 'display': u'Po\\u017c\\u0105danie', 'name': 'pozadanie'},\n",
        " {'count': 232, 'display': u'Ko\\u0144', 'name': 'kon'},\n",
        " {'count': 228, 'display': 'Wspomnienia', 'name': 'wspomnienia'},\n",
        " {'count': 228, 'display': u'Przyw\\xf3dca', 'name': 'przywodca'},\n",
        " {'count': 227, 'display': u'Zazdro\\u015b\\u0107', 'name': 'zazdrosc'},\n",
        " {'count': 225, 'display': 'Handel', 'name': 'handel'},\n",
        " {'count': 222, 'display': 'Muzyka', 'name': 'muzyka'},\n",
        " {'count': 220, 'display': u'Pija\\u0144stwo', 'name': 'pijanstwo'},\n",
        " {'count': 220, 'display': u'S\\u0142awa', 'name': 'slawa'},\n",
        " {'count': 220, 'display': u'Okrucie\\u0144stwo', 'name': 'okrucienstwo'},\n",
        " {'count': 219, 'display': u'T\\u0119sknota', 'name': 'tesknota'},\n",
        " {'count': 218, 'display': u'Szale\\u0144stwo', 'name': 'szalenstwo'},\n",
        " {'count': 218, 'display': 'Niewola', 'name': 'niewola'},\n",
        " {'count': 215, 'display': u'Samob\\xf3jstwo', 'name': 'samobojstwo'},\n",
        " {'count': 214, 'display': 'Uroda', 'name': 'uroda'},\n",
        " {'count': 214, 'display': 'Rodzina', 'name': 'rodzina'},\n",
        " {'count': 213, 'display': 'Honor', 'name': 'honor'},\n",
        " {'count': 213, 'display': u'\\u015apiew', 'name': 'spiew'},\n",
        " {'count': 213, 'display': 'Rozpacz', 'name': 'rozpacz'},\n",
        " {'count': 211, 'display': 'List', 'name': 'list'},\n",
        " {'count': 211, 'display': 'Wzrok', 'name': 'wzrok'},\n",
        " {'count': 211, 'display': u'Wie\\u015b', 'name': 'wies'},\n",
        " {'count': 210, 'display': 'Kwiaty', 'name': 'kwiaty'},\n",
        " {'count': 208, 'display': 'Pies', 'name': 'pies'},\n",
        " {'count': 205, 'display': u'K\\u0142amstwo', 'name': 'klamstwo'},\n",
        " {'count': 204, 'display': 'Wierzenia', 'name': 'wierzenia'},\n",
        " {'count': 203, 'display': 'Flirt', 'name': 'flirt'},\n",
        " {'count': 202, 'display': u'Gr\\xf3b', 'name': 'grob'},\n",
        " {'count': 202, 'display': u'Anio\\u0142', 'name': 'aniol'},\n",
        " {'count': 201, 'display': u'Wr\\xf3g', 'name': 'wrog'}]"
       ]
      }
     ],
     "prompt_number": 22
    },
    {
     "cell_type": "code",
     "collapsed": false,
     "input": [
      "links[:2] #old"
     ],
     "language": "python",
     "metadata": {},
     "outputs": [
      {
       "output_type": "pyout",
       "prompt_number": 24,
       "text": [
        "[{'count': 1937,\n",
        "  'source': 'poeta',\n",
        "  'strength': 5.5563465441023085,\n",
        "  'target': 'poezja'},\n",
        " {'count': 3715,\n",
        "  'source': 'handel',\n",
        "  'strength': 3.4859843411834124,\n",
        "  'target': 'zyd'}]"
       ]
      }
     ],
     "prompt_number": 24
    },
    {
     "cell_type": "code",
     "collapsed": false,
     "input": [
      "nodes[:2]"
     ],
     "language": "python",
     "metadata": {},
     "outputs": [
      {
       "output_type": "pyout",
       "prompt_number": 28,
       "text": [
        "[{'count': 1695, 'display': 'Kobieta', 'name': 'kobieta'},\n",
        " {'count': 1484, 'display': u'Mi\\u0142o\\u015b\\u0107', 'name': 'milosc'}]"
       ]
      }
     ],
     "prompt_number": 28
    },
    {
     "cell_type": "code",
     "collapsed": false,
     "input": [
      "pozycja = dict([(node[\"name\"], i) for i, node in enumerate(nodes)])"
     ],
     "language": "python",
     "metadata": {},
     "outputs": [],
     "prompt_number": 31
    },
    {
     "cell_type": "code",
     "collapsed": false,
     "input": [
      "links_new = [{\"source\":pozycja[k[0]], \"target\":pozycja[k[1]], \"strength\": v-1, \"count\":motif_pair_counts[k]} for k, v in motif_eo_200_t1d5]"
     ],
     "language": "python",
     "metadata": {},
     "outputs": [],
     "prompt_number": 32
    },
    {
     "cell_type": "code",
     "collapsed": false,
     "input": [
      "json.dump({\"links\":links_new, \"nodes\":nodes}, open(\"motywy_wolnych_lektur.json\", \"w\"), indent=2)"
     ],
     "language": "python",
     "metadata": {},
     "outputs": [],
     "prompt_number": 36
    },
    {
     "cell_type": "code",
     "collapsed": false,
     "input": [
      "nodes_newer = [{\"name\":k, \"id\": k, \"count\": v, \"display\": motif_dict[k]} for k, v in pre_nodes]"
     ],
     "language": "python",
     "metadata": {},
     "outputs": [],
     "prompt_number": 37
    },
    {
     "cell_type": "code",
     "collapsed": false,
     "input": [
      "json.dump({\"links\":links, \"nodes\":nodes_newer}, open(\"motywy_wolnych_lektur2.json\", \"w\"), indent=2)"
     ],
     "language": "python",
     "metadata": {},
     "outputs": [],
     "prompt_number": 39
    },
    {
     "cell_type": "code",
     "collapsed": false,
     "input": [],
     "language": "python",
     "metadata": {},
     "outputs": []
    }
   ],
   "metadata": {}
  }
 ]
}