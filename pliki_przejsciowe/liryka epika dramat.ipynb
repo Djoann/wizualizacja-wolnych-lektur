{
 "metadata": {
  "name": "liryka epika dramat"
 },
 "nbformat": 3,
 "nbformat_minor": 0,
 "worksheets": [
  {
   "cells": [
    {
     "cell_type": "code",
     "collapsed": false,
     "input": [
      "import simplejson as json"
     ],
     "language": "python",
     "metadata": {},
     "outputs": [],
     "prompt_number": 1
    },
    {
     "cell_type": "code",
     "collapsed": false,
     "input": [
      "books_more = json.load(open(\"books_more.json\"))"
     ],
     "language": "python",
     "metadata": {},
     "outputs": [],
     "prompt_number": 24
    },
    {
     "cell_type": "code",
     "collapsed": false,
     "input": [
      "books_motifs = json.load(open(\"book_motifs.json\"))"
     ],
     "language": "python",
     "metadata": {},
     "outputs": [],
     "prompt_number": 4
    },
    {
     "cell_type": "code",
     "collapsed": false,
     "input": [
      "z = [len(book[\"more\"][\"kinds\"]) for book in books_more]"
     ],
     "language": "python",
     "metadata": {},
     "outputs": [],
     "prompt_number": 26
    },
    {
     "cell_type": "code",
     "collapsed": false,
     "input": [
      "max(z)"
     ],
     "language": "python",
     "metadata": {},
     "outputs": [
      {
       "output_type": "pyout",
       "prompt_number": 27,
       "text": [
        "2"
       ]
      }
     ],
     "prompt_number": 27
    },
    {
     "cell_type": "code",
     "collapsed": false,
     "input": [
      "books_motifs[99]"
     ],
     "language": "python",
     "metadata": {},
     "outputs": [
      {
       "output_type": "pyout",
       "prompt_number": 28,
       "text": [
        "{'author': u'Juliusz S\\u0142owacki',\n",
        " 'motifs': [['Matka', 'matka', 21],\n",
        "  ['Kobieta', 'kobieta', 19],\n",
        "  ['Zbrodniarz', 'zbrodniarz', 18],\n",
        "  [u'Mi\\u0142o\\u015b\\u0107', 'milosc', 17],\n",
        "  [u'W\\u0142adza', 'wladza', 17],\n",
        "  ['Zbrodnia', 'zbrodnia', 16],\n",
        "  [u'Kr\\xf3l', 'krol', 14],\n",
        "  [u'\\u015amier\\u0107', 'smierc', 14],\n",
        "  [u'C\\xf3rka', 'corka', 13],\n",
        "  [u'\\u0141zy', 'lzy', 12],\n",
        "  ['Ptak', 'ptak', 12],\n",
        "  [u'B\\xf3g', 'bog', 11],\n",
        "  [u'Ch\\u0142op', 'chlop', 11],\n",
        "  [u'Sprawiedliwo\\u015b\\u0107', 'sprawiedliwosc', 11],\n",
        "  ['Wyrzuty sumienia', 'wyrzuty-sumienia', 11],\n",
        "  [u'\\u017bona', 'zona', 11],\n",
        "  ['Kochanek', 'kochanek', 10],\n",
        "  ['Strach', 'strach', 10],\n",
        "  ['Czary', 'czary', 9],\n",
        "  ['Kara', 'kara', 9],\n",
        "  [u'M\\u0105\\u017c', 'maz', 9],\n",
        "  ['Morderstwo', 'morderstwo', 9],\n",
        "  [u'Pozycja spo\\u0142eczna', 'pozycja-spoleczna', 9],\n",
        "  ['Trup', 'trup', 9],\n",
        "  ['Gotycyzm', 'gotycyzm', 8],\n",
        "  ['Krew', 'krew', 8],\n",
        "  ['Marzenie', 'marzenie', 8],\n",
        "  ['Rycerz', 'rycerz', 8],\n",
        "  ['Tajemnica', 'tajemnica', 8],\n",
        "  ['Drzewo', 'drzewo', 7],\n",
        "  ['Sen', 'sen', 7],\n",
        "  ['Siostra', 'siostra', 7],\n",
        "  [u'S\\u0142uga', 'sluga', 7],\n",
        "  [u'Staro\\u015b\\u0107', 'starosc', 7],\n",
        "  ['Zemsta', 'zemsta', 7],\n",
        "  ['Obyczaje', 'obyczaje', 6],\n",
        "  ['Praca', 'praca', 6],\n",
        "  ['Szaleniec', 'szaleniec', 6],\n",
        "  ['Szatan', 'szatan', 6],\n",
        "  ['Szlachcic', 'szlachcic', 6],\n",
        "  [u'Zazdro\\u015b\\u0107', 'zazdrosc', 6],\n",
        "  ['Czarownica', 'czarownica', 5],\n",
        "  [u'K\\u0142amstwo', 'klamstwo', 5],\n",
        "  ['Kochanek romantyczny', 'kochanek-romantyczny', 5],\n",
        "  [u'Ma\\u0142\\u017ce\\u0144stwo', 'malzenstwo', 5],\n",
        "  [u'M\\u0119\\u017cczyzna', 'mezczyzna', 5],\n",
        "  [u'Szale\\u0144stwo', 'szalenstwo', 5],\n",
        "  ['Cierpienie', 'cierpienie', 4],\n",
        "  ['Dziecko', 'dziecko', 4],\n",
        "  ['Kondycja ludzka', 'kondycja-ludzka', 4],\n",
        "  [u'Obowi\\u0105zek', 'obowiazek', 4],\n",
        "  [u'Pieni\\u0105dz', 'pieniadz', 4],\n",
        "  [u'Pi\\u0119tno', 'pietno', 4],\n",
        "  [u'Pija\\u0144stwo', 'pijanstwo', 4],\n",
        "  [u'Poca\\u0142unek', 'pocalunek', 4],\n",
        "  ['Burza', 'burza', 3],\n",
        "  ['Duch', 'duch', 3],\n",
        "  ['Dziewictwo', 'dziewictwo', 3],\n",
        "  ['Los', 'los', 3],\n",
        "  [u'Mi\\u0142o\\u015b\\u0107 silniejsza ni\\u017c \\u015bmier\\u0107',\n",
        "   'milosc-silniejsza-niz-smierc',\n",
        "   3],\n",
        "  [u'Mi\\u0142o\\u015b\\u0107 tragiczna', 'milosc-tragiczna', 3],\n",
        "  [u'Ogie\\u0144', 'ogien', 3],\n",
        "  ['Przeczucie', 'przeczucie', 3],\n",
        "  ['Pycha', 'pycha', 3],\n",
        "  ['Trucizna', 'trucizna', 3],\n",
        "  ['Walka', 'walka', 3],\n",
        "  [u'Wie\\u015b', 'wies', 3],\n",
        "  ['Wiosna', 'wiosna', 3],\n",
        "  ['Woda', 'woda', 3],\n",
        "  ['Wzrok', 'wzrok', 3],\n",
        "  ['Zdrada', 'zdrada', 3],\n",
        "  [u'Zwierz\\u0119ta', 'zwierzeta', 3],\n",
        "  [u'\\u017bywio\\u0142y', 'zywioly', 3],\n",
        "  [u'Anio\\u0142', 'aniol', 2],\n",
        "  ['Bieda', 'bieda', 2],\n",
        "  [u'B\\u0142azen', 'blazen', 2],\n",
        "  ['Bogactwo', 'bogactwo', 2],\n",
        "  [u'Chciwo\\u015b\\u0107', 'chciwosc', 2],\n",
        "  [u'Ciemno\\u015b\\u0107', 'ciemnosc', 2],\n",
        "  [u'Diabe\\u0142', 'diabel', 2],\n",
        "  [u'G\\u0142\\xf3d', 'glod', 2],\n",
        "  [u'Konflikt wewn\\u0119trzny', 'konflikt-wewnetrzny', 2],\n",
        "  [u'Ksi\\u0105dz', 'ksiadz', 2],\n",
        "  ['Lekarz', 'lekarz', 2],\n",
        "  ['Lenistwo', 'lenistwo', 2],\n",
        "  [u'M\\u0105dro\\u015b\\u0107', 'madrosc', 2],\n",
        "  [u'Mi\\u0142o\\u015b\\u0107 romantyczna', 'milosc-romantyczna', 2],\n",
        "  ['Nauka', 'nauka', 2],\n",
        "  ['Niemiec', 'niemiec', 2],\n",
        "  [u'Obraz \\u015bwiata', 'obraz-swiata', 2],\n",
        "  ['Ofiara', 'ofiara', 2],\n",
        "  [u'Podst\\u0119p', 'podstep', 2],\n",
        "  ['Pokusa', 'pokusa', 2],\n",
        "  ['Polak', 'polak', 2],\n",
        "  [u'Pr\\xf3\\u017cno\\u015b\\u0107', 'proznosc', 2],\n",
        "  ['Przebranie', 'przebranie', 2],\n",
        "  ['Przemiana', 'przemiana', 2],\n",
        "  ['Rodzina', 'rodzina', 2],\n",
        "  [u'Ro\\u015bliny', 'rosliny', 2],\n",
        "  ['Rozum', 'rozum', 2],\n",
        "  [u'Samob\\xf3jstwo', 'samobojstwo', 2],\n",
        "  ['Serce', 'serce', 2],\n",
        "  ['Sielanka', 'sielanka', 2],\n",
        "  [u'Szcz\\u0119\\u015bcie', 'szczescie', 2],\n",
        "  [u'Urz\\u0119dnik', 'urzednik', 2],\n",
        "  [u'W\\u0105\\u017c', 'waz', 2],\n",
        "  [u'Zwyci\\u0119stwo', 'zwyciestwo', 2],\n",
        "  ['Alkohol', 'alkohol', 1],\n",
        "  ['Bunt', 'bunt', 1],\n",
        "  ['Chrystus', 'chrystus', 1],\n",
        "  ['Cnota', 'cnota', 1],\n",
        "  ['Cud', 'cud', 1],\n",
        "  ['Dom', 'dom', 1],\n",
        "  [u'Dw\\xf3r', 'dwor', 1],\n",
        "  [u'G\\u0142upiec', 'glupiec', 1],\n",
        "  [u'G\\u0142upota', 'glupota', 1],\n",
        "  [u'Gr\\xf3b', 'grob', 1],\n",
        "  ['Historia', 'historia', 1],\n",
        "  ['Jedzenie', 'jedzenie', 1],\n",
        "  [u'Kl\\u0119ska', 'kleska', 1],\n",
        "  [u'Kobieta \"upad\\u0142a\"', 'kobieta-upadla', 1],\n",
        "  ['Konflikt', 'konflikt', 1],\n",
        "  [u'Koniec \\u015bwiata', 'koniec-swiata', 1],\n",
        "  [u'Kradzie\\u017c', 'kradziez', 1],\n",
        "  [u'Mi\\u0142osierdzie', 'milosierdzie', 1],\n",
        "  [u'Mi\\u0142o\\u015b\\u0107 platoniczna', 'milosc-platoniczna', 1],\n",
        "  [u'M\\u0142odo\\u015b\\u0107', 'mlodosc', 1],\n",
        "  ['Modlitwa', 'modlitwa', 1],\n",
        "  ['Muzyka', 'muzyka', 1],\n",
        "  ['Natura', 'natura', 1],\n",
        "  ['Niewola', 'niewola', 1],\n",
        "  ['Noc', 'noc', 1],\n",
        "  ['Nuda', 'nuda', 1],\n",
        "  ['Obcy', 'obcy', 1],\n",
        "  ['Odwaga', 'odwaga', 1],\n",
        "  ['Ojciec', 'ojciec', 1],\n",
        "  ['Pan', 'pan', 1],\n",
        "  [u'Pa\\u0144stwo', 'panstwo', 1],\n",
        "  ['Pochlebstwo', 'pochlebstwo', 1],\n",
        "  ['Poeta', 'poeta', 1],\n",
        "  ['Poezja', 'poezja', 1],\n",
        "  ['Pogrzeb', 'pogrzeb', 1],\n",
        "  ['Pokora', 'pokora', 1],\n",
        "  [u'Po\\u015bwi\\u0119cenie', 'poswiecenie', 1],\n",
        "  ['Prawda', 'prawda', 1],\n",
        "  ['Przemijanie', 'przemijanie', 1],\n",
        "  ['Przemoc', 'przemoc', 1],\n",
        "  [u'Przysi\\u0119ga', 'przysiega', 1],\n",
        "  [u'Przyw\\xf3dca', 'przywodca', 1],\n",
        "  ['Religia', 'religia', 1],\n",
        "  ['Rozpacz', 'rozpacz', 1],\n",
        "  ['Samotnik', 'samotnik', 1],\n",
        "  [u'S\\u0105d', 'sad', 1],\n",
        "  [u'S\\u0119dzia', 'sedzia', 1],\n",
        "  [u'S\\u0142o\\u0144ce', 'slonce', 1],\n",
        "  [u'Szanta\\u017c', 'szantaz', 1],\n",
        "  [u'\\u015amier\\u0107 bohaterska', 'smierc-bohaterska', 1],\n",
        "  [u'\\u015awiat\\u0142o', 'swiatlo', 1],\n",
        "  [u'\\u015awi\\u0119ty', 'swiety', 1],\n",
        "  [u'T\\u0119sknota', 'tesknota', 1],\n",
        "  ['Wesele', 'wesele', 1],\n",
        "  ['Wierzenia', 'wierzenia', 1],\n",
        "  ['Wino', 'wino', 1],\n",
        "  ['Wojna', 'wojna', 1],\n",
        "  ['Wygnanie', 'wygnanie', 1],\n",
        "  ['Zabawa', 'zabawa', 1],\n",
        "  [u'Zar\\u0119czyny', 'zareczyny', 1],\n",
        "  [u'Za\\u015bwiaty', 'zaswiaty', 1],\n",
        "  [u'Z\\u0142odziej', 'zlodziej', 1],\n",
        "  [u'\\u017ba\\u0142oba', 'zaloba', 1],\n",
        "  [u'\\u017bebrak', 'zebrak', 1],\n",
        "  [u'\\u017bycie snem', 'zycie-snem', 1]],\n",
        " 'title': 'Balladyna'}"
       ]
      }
     ],
     "prompt_number": 28
    },
    {
     "cell_type": "code",
     "collapsed": false,
     "input": [
      "books_more[10][\"title\"]"
     ],
     "language": "python",
     "metadata": {},
     "outputs": [
      {
       "output_type": "pyout",
       "prompt_number": 22,
       "text": [
        "u'(Duch tw\\xf3j, gdy dzisiaj...)'"
       ]
      }
     ],
     "prompt_number": 22
    },
    {
     "cell_type": "code",
     "collapsed": false,
     "input": [
      "[b for b in books_more if b[\"title\"] == u'(Duch tw\\xf3j, gdy dzisiaj...)']"
     ],
     "language": "python",
     "metadata": {},
     "outputs": [
      {
       "output_type": "pyout",
       "prompt_number": 23,
       "text": [
        "[{'author': 'Stefan George',\n",
        "  'cover': 'http://wolnelektury.pl/media/book/jpg/duch-twoj-gdy-dzisiaj.jpg',\n",
        "  'href': 'http://wolnelektury.pl/api/books/duch-twoj-gdy-dzisiaj/',\n",
        "  'more': {'authors': [{'href': 'http://wolnelektury.pl/api/authors/stefan-george/',\n",
        "     'name': 'Stefan George',\n",
        "     'url': 'http://wolnelektury.pl/katalog/autor/stefan-george/'}],\n",
        "   'children': [],\n",
        "   'cover': 'http://wolnelektury.pl/media/book/jpg/duch-twoj-gdy-dzisiaj.jpg',\n",
        "   'cover_thumb': 'http://wolnelektury.pl/media/cache/ac/e1/ace15ea5ca62f3abdc0da650001c7aed.jpg',\n",
        "   'epochs': [{'href': 'http://wolnelektury.pl/api/epochs/modernizm/',\n",
        "     'name': 'Modernizm',\n",
        "     'url': 'http://wolnelektury.pl/katalog/epoka/modernizm/'}],\n",
        "   'epub': 'http://wolnelektury.pl/media/book/epub/duch-twoj-gdy-dzisiaj.epub',\n",
        "   'fb2': 'http://wolnelektury.pl/media/book/fb2/duch-twoj-gdy-dzisiaj.fb2',\n",
        "   'genres': [{'href': 'http://wolnelektury.pl/api/genres/wiersz/',\n",
        "     'name': 'Wiersz',\n",
        "     'url': 'http://wolnelektury.pl/katalog/gatunek/wiersz/'}],\n",
        "   'html': 'http://wolnelektury.pl/media/book/html/duch-twoj-gdy-dzisiaj.html',\n",
        "   'kinds': [{'href': 'http://wolnelektury.pl/api/kinds/liryka/',\n",
        "     'name': 'Liryka',\n",
        "     'url': 'http://wolnelektury.pl/katalog/rodzaj/liryka/'}],\n",
        "   'media': [],\n",
        "   'mobi': 'http://wolnelektury.pl/media/book/mobi/duch-twoj-gdy-dzisiaj.mobi',\n",
        "   'parent': None,\n",
        "   'pdf': 'http://wolnelektury.pl/media/book/pdf/duch-twoj-gdy-dzisiaj.pdf',\n",
        "   'title': u'(Duch tw\\xf3j, gdy dzisiaj...)',\n",
        "   'txt': 'http://wolnelektury.pl/media/book/txt/duch-twoj-gdy-dzisiaj.txt',\n",
        "   'url': 'http://wolnelektury.pl/katalog/lektura/duch-twoj-gdy-dzisiaj/',\n",
        "   'xml': 'http://wolnelektury.pl/media/book/xml/duch-twoj-gdy-dzisiaj.xml'},\n",
        "  'title': u'(Duch tw\\xf3j, gdy dzisiaj...)',\n",
        "  'url': 'http://wolnelektury.pl/katalog/lektura/duch-twoj-gdy-dzisiaj/'}]"
       ]
      }
     ],
     "prompt_number": 23
    },
    {
     "cell_type": "code",
     "collapsed": false,
     "input": [
      "motif_types = {}\n",
      "z = 0\n",
      "for bm in books_motifs:\n",
      "    x = [book[\"more\"][\"kinds\"] for book in books_more if (book[\"title\"] == bm[\"title\"]) and (book[\"author\"] == bm[\"author\"])]\n",
      "    if len(x) != 1:\n",
      "        print len(x), bm[\"title\"]\n",
      "    if len(x[0]) > 1:\n",
      "        print \"More types at: %s\" % bm[\"title\"]\n",
      "    y = x[0][0][\"name\"].lower()\n",
      "    for motif in bm[\"motifs\"]:\n",
      "        try:\n",
      "            motif_types[motif[1]][y] += motif[2]\n",
      "        except:\n",
      "            motif_types[motif[1]] = {\"liryka\":0, \"epika\":0, \"dramat\":0}\n",
      "            motif_types[motif[1]][y] += motif[2]"
     ],
     "language": "python",
     "metadata": {},
     "outputs": [
      {
       "output_type": "stream",
       "stream": "stdout",
       "text": [
        "More types at: Dziewczyna\n",
        "2"
       ]
      },
      {
       "output_type": "stream",
       "stream": "stdout",
       "text": [
        " Filozof\n",
        "2 Filozof\n",
        "2"
       ]
      },
      {
       "output_type": "stream",
       "stream": "stdout",
       "text": [
        " Koniec\n",
        "2 Koniec\n",
        "2"
       ]
      },
      {
       "output_type": "stream",
       "stream": "stdout",
       "text": [
        " Ksi\u0119gi pierwsze\n",
        "2 Ksi\u0119gi pierwsze\n",
        "2 Ksi\u0119gi wt\u00f3re\n",
        "2 Ksi\u0119gi wt\u00f3re\n",
        "2"
       ]
      },
      {
       "output_type": "stream",
       "stream": "stdout",
       "text": [
        " Ma\u0142\u017ce\u0144stwo\n",
        "2 Ma\u0142\u017ce\u0144stwo\n",
        "2"
       ]
      },
      {
       "output_type": "stream",
       "stream": "stdout",
       "text": [
        " Podr\u00f3\u017cny\n",
        "2 Podr\u00f3\u017cny\n",
        "3"
       ]
      },
      {
       "output_type": "stream",
       "stream": "stdout",
       "text": [
        " Powr\u00f3t\n",
        "3 Powr\u00f3t\n",
        "2"
       ]
      },
      {
       "output_type": "stream",
       "stream": "stdout",
       "text": [
        " \u015amier\u0107\n",
        "2 \u015amier\u0107\n",
        "2"
       ]
      },
      {
       "output_type": "stream",
       "stream": "stdout",
       "text": [
        " \u015awi\u0119toszek\n",
        "2 \u015awi\u0119toszek\n",
        "More types at: Tukaj albo pr\u00f3by przyja\u017ani"
       ]
      },
      {
       "output_type": "stream",
       "stream": "stdout",
       "text": [
        "\n"
       ]
      }
     ],
     "prompt_number": 62
    },
    {
     "cell_type": "code",
     "collapsed": false,
     "input": [
      "z"
     ],
     "language": "python",
     "metadata": {},
     "outputs": [
      {
       "output_type": "pyout",
       "prompt_number": 59,
       "text": [
        "2"
       ]
      }
     ],
     "prompt_number": 59
    },
    {
     "cell_type": "code",
     "collapsed": false,
     "input": [
      "motif_types.items()[:3]"
     ],
     "language": "python",
     "metadata": {},
     "outputs": [
      {
       "output_type": "pyout",
       "prompt_number": 55,
       "text": [
        "[('wygnanie', {'Dramat': 10, 'Epika': 32, 'Liryka': 24}),\n",
        " ('ksiazka', {'Dramat': 26, 'Epika': 183, 'Liryka': 44}),\n",
        " ('kradziez', {'Dramat': 15, 'Epika': 41, 'Liryka': 7})]"
       ]
      }
     ],
     "prompt_number": 55
    },
    {
     "cell_type": "code",
     "collapsed": false,
     "input": [
      "json.dump(motif_types, open(\"motif_type_approx.json\", \"w\"), indent=2)"
     ],
     "language": "python",
     "metadata": {},
     "outputs": [],
     "prompt_number": 57
    },
    {
     "cell_type": "code",
     "collapsed": false,
     "input": [
      "books_more[0][\"title\"]"
     ],
     "language": "python",
     "metadata": {},
     "outputs": [
      {
       "output_type": "pyout",
       "prompt_number": 39,
       "text": [
        "u'(Ach! rzuci\\u0107 sieci zdarte...)'"
       ]
      }
     ],
     "prompt_number": 39
    },
    {
     "cell_type": "code",
     "collapsed": false,
     "input": [
      "books_motifs[:3]"
     ],
     "language": "python",
     "metadata": {},
     "outputs": [
      {
       "output_type": "pyout",
       "prompt_number": 45,
       "text": [
        "[{'author': u'Tristan Der\\xe8me',\n",
        "  'motifs': [['Kondycja ludzka', 'kondycja-ludzka', 1], ['Poeta', 'poeta', 1]],\n",
        "  'title': u'(Ach! rzuci\\u0107 sieci zdarte...)'},\n",
        " {'author': u'Marceli Ska\\u0142kowski',\n",
        "  'motifs': [[u'Bro\\u0144', 'bron', 1],\n",
        "   ['Patriota', 'patriota', 1],\n",
        "   ['Polityka', 'polityka', 1],\n",
        "   ['Powstanie', 'powstanie', 1],\n",
        "   ['Religia', 'religia', 1],\n",
        "   ['Wiara', 'wiara', 1],\n",
        "   ['Wojna', 'wojna', 1],\n",
        "   [u'Wr\\xf3g', 'wrog', 1]],\n",
        "  'title': '(Bartoszu, Bartoszu...)'},\n",
        " {'author': u'Jean Mor\\xe9as',\n",
        "  'motifs': [['Melancholia', 'melancholia', 1],\n",
        "   [u'Ro\\u015bliny', 'rosliny', 1]],\n",
        "  'title': u'(Bluszcze! Jakimi zwisacie wdzi\\u0119kiem...)'}]"
       ]
      }
     ],
     "prompt_number": 45
    },
    {
     "cell_type": "code",
     "collapsed": false,
     "input": [
      "motywy_dane = json.load(open(\"motywy_wolnych_lektur.json\"))"
     ],
     "language": "python",
     "metadata": {},
     "outputs": [],
     "prompt_number": 63
    },
    {
     "cell_type": "code",
     "collapsed": false,
     "input": [
      "motywy_dane[\"nodes\"][0]"
     ],
     "language": "python",
     "metadata": {},
     "outputs": [
      {
       "output_type": "pyout",
       "prompt_number": 66,
       "text": [
        "{'count': 1695, 'display': 'Kobieta', 'name': 'kobieta'}"
       ]
      }
     ],
     "prompt_number": 66
    },
    {
     "cell_type": "code",
     "collapsed": false,
     "input": [
      "for node in motywy_dane[\"nodes\"]:\n",
      "    node.update(motif_types[node[\"name\"]])"
     ],
     "language": "python",
     "metadata": {},
     "outputs": [],
     "prompt_number": 68
    },
    {
     "cell_type": "code",
     "collapsed": false,
     "input": [
      "motywy_dane[\"nodes\"][0]"
     ],
     "language": "python",
     "metadata": {},
     "outputs": [
      {
       "output_type": "pyout",
       "prompt_number": 69,
       "text": [
        "{'count': 1695,\n",
        " 'display': 'Kobieta',\n",
        " 'dramat': 201,\n",
        " 'epika': 1187,\n",
        " 'liryka': 307,\n",
        " 'name': 'kobieta'}"
       ]
      }
     ],
     "prompt_number": 69
    },
    {
     "cell_type": "code",
     "collapsed": false,
     "input": [
      "for node in motywy_dane[\"nodes\"]:\n",
      "    node.update(motif_types[node[\"name\"]])"
     ],
     "language": "python",
     "metadata": {},
     "outputs": []
    }
   ],
   "metadata": {}
  }
 ]
}