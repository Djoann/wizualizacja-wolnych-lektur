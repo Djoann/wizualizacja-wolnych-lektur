{
 "metadata": {
  "name": "w pustynii"
 },
 "nbformat": 3,
 "nbformat_minor": 0,
 "worksheets": [
  {
   "cells": [
    {
     "cell_type": "code",
     "collapsed": false,
     "input": [
      "import requests\n",
      "import nltk\n",
      "from collections2 import Counter\n",
      "import simplejson as json\n",
      "import numpy as np\n",
      "import re"
     ],
     "language": "python",
     "metadata": {},
     "outputs": [],
     "prompt_number": 14
    },
    {
     "cell_type": "code",
     "collapsed": false,
     "input": [
      "tekst = requests.get(\"http://wolnelektury.pl/media/book/txt/w-pustyni-i-w-puszczy.txt\").content.decode(\"utf-8\")"
     ],
     "language": "python",
     "metadata": {},
     "outputs": [],
     "prompt_number": 2
    },
    {
     "cell_type": "code",
     "collapsed": false,
     "input": [
      "nltk.stem??"
     ],
     "language": "python",
     "metadata": {},
     "outputs": [],
     "prompt_number": 5
    },
    {
     "cell_type": "code",
     "collapsed": false,
     "input": [
      "%timeit slowa = map(unicode.lower, nltk.word_tokenize(tekst))"
     ],
     "language": "python",
     "metadata": {},
     "outputs": [
      {
       "output_type": "stream",
       "stream": "stdout",
       "text": [
        "1 loops, best of 3: 1.93 s per loop\n"
       ]
      }
     ],
     "prompt_number": 15
    },
    {
     "cell_type": "code",
     "collapsed": false,
     "input": [
      "%timeit slowa = nltk.word_tokenize(tekst.lower())"
     ],
     "language": "python",
     "metadata": {},
     "outputs": [
      {
       "output_type": "stream",
       "stream": "stdout",
       "text": [
        "1 loops, best of 3: 1.87 s per loop\n"
       ]
      }
     ],
     "prompt_number": 16
    },
    {
     "cell_type": "code",
     "collapsed": false,
     "input": [
      "slowa_re = map(unicode.lower, re.findall(ur\"[\\w]+\", tekst, re.UNICODE))"
     ],
     "language": "python",
     "metadata": {},
     "outputs": [],
     "prompt_number": 20
    },
    {
     "cell_type": "code",
     "collapsed": false,
     "input": [
      "len(slowa)"
     ],
     "language": "python",
     "metadata": {},
     "outputs": [
      {
       "output_type": "pyout",
       "prompt_number": 4,
       "text": [
        "114039"
       ]
      }
     ],
     "prompt_number": 4
    },
    {
     "cell_type": "code",
     "collapsed": false,
     "input": [
      "len(slowa_re)"
     ],
     "language": "python",
     "metadata": {},
     "outputs": [
      {
       "output_type": "pyout",
       "prompt_number": 21,
       "text": [
        "100171"
       ]
      }
     ],
     "prompt_number": 21
    },
    {
     "cell_type": "code",
     "collapsed": false,
     "input": [
      "slowa[:20]"
     ],
     "language": "python",
     "metadata": {},
     "outputs": [
      {
       "output_type": "pyout",
       "prompt_number": 5,
       "text": [
        "[u'henryk',\n",
        " u'sienkiewicz',\n",
        " u'w',\n",
        " u'pustyni',\n",
        " u'i',\n",
        " u'w',\n",
        " u'puszczy',\n",
        " u'rozdzia\\u0142',\n",
        " u'i',\n",
        " u'\\u2014',\n",
        " u'wiesz',\n",
        " u',',\n",
        " u'nel',\n",
        " u'\\u2014',\n",
        " u'm\\xf3wi\\u0142',\n",
        " u'sta\\u015b',\n",
        " u'tarkowski',\n",
        " u'do',\n",
        " u'swojej',\n",
        " u'przyjaci\\xf3\\u0142ki']"
       ]
      }
     ],
     "prompt_number": 5
    },
    {
     "cell_type": "code",
     "collapsed": false,
     "input": [
      "def base_"
     ],
     "language": "python",
     "metadata": {},
     "outputs": [],
     "prompt_number": 13
    },
    {
     "cell_type": "code",
     "collapsed": false,
     "input": [
      "len(stemmizer)"
     ],
     "language": "python",
     "metadata": {},
     "outputs": [
      {
       "ename": "NameError",
       "evalue": "name 'stemmizer' is not defined",
       "output_type": "pyerr",
       "traceback": [
        "\u001b[0;31m---------------------------------------------------------------------------\u001b[0m\n\u001b[0;31mNameError\u001b[0m                                 Traceback (most recent call last)",
        "\u001b[0;32m<ipython-input-18-d84cdd0a945d>\u001b[0m in \u001b[0;36m<module>\u001b[0;34m()\u001b[0m\n\u001b[0;32m----> 1\u001b[0;31m \u001b[0mlen\u001b[0m\u001b[0;34m(\u001b[0m\u001b[0mstemmizer\u001b[0m\u001b[0;34m)\u001b[0m\u001b[0;34m\u001b[0m\u001b[0m\n\u001b[0m",
        "\u001b[0;31mNameError\u001b[0m: name 'stemmizer' is not defined"
       ]
      }
     ],
     "prompt_number": 18
    },
    {
     "cell_type": "code",
     "collapsed": false,
     "input": [
      "stem_kolor = json.load(open(\"stemmizer_kolory.json\"))\n",
      "# kolory = json.load(open(\"kolory_dict.json\"))\n",
      "kolory = json.load(open(\"kolory_nowe.json\"))"
     ],
     "language": "python",
     "metadata": {},
     "outputs": [],
     "prompt_number": 4
    },
    {
     "cell_type": "code",
     "collapsed": false,
     "input": [
      "counts = Counter(slowa)"
     ],
     "language": "python",
     "metadata": {},
     "outputs": [],
     "prompt_number": 5
    },
    {
     "cell_type": "code",
     "collapsed": false,
     "input": [
      "counts_re = Counter(slowa_re)"
     ],
     "language": "python",
     "metadata": {},
     "outputs": [],
     "prompt_number": 22
    },
    {
     "cell_type": "code",
     "collapsed": false,
     "input": [
      "counts.most_common(20)"
     ],
     "language": "python",
     "metadata": {},
     "outputs": [
      {
       "output_type": "pyout",
       "prompt_number": 6,
       "text": [
        "[(u',', 9814),\n",
        " (u'i', 4033),\n",
        " (u'si\\u0119', 2724),\n",
        " (u'\\u2014', 2487),\n",
        " (u'w', 2225),\n",
        " (u'na', 1989),\n",
        " (u'nie', 1931),\n",
        " (u'z', 1755),\n",
        " (u'\\u017ce', 1393),\n",
        " (u'do', 1202),\n",
        " (u'a', 1038),\n",
        " (u'to', 851),\n",
        " (u'ale', 782),\n",
        " (u'po', 726),\n",
        " (u'!', 722),\n",
        " (u'sta\\u015b', 557),\n",
        " (u'jak', 543),\n",
        " (u'o', 511),\n",
        " (u'tak', 494),\n",
        " (u':', 490)]"
       ]
      }
     ],
     "prompt_number": 6
    },
    {
     "cell_type": "code",
     "collapsed": false,
     "input": [
      "counts_re.most_common(20)"
     ],
     "language": "python",
     "metadata": {},
     "outputs": [
      {
       "output_type": "pyout",
       "prompt_number": 23,
       "text": [
        "[(u'i', 4046),\n",
        " (u'si\\u0119', 2741),\n",
        " (u'w', 2228),\n",
        " (u'na', 1991),\n",
        " (u'nie', 1955),\n",
        " (u'z', 1755),\n",
        " (u'\\u017ce', 1393),\n",
        " (u'do', 1203),\n",
        " (u'a', 1038),\n",
        " (u'to', 854),\n",
        " (u'ale', 786),\n",
        " (u'po', 727),\n",
        " (u'sta\\u015b', 631),\n",
        " (u'nel', 553),\n",
        " (u'jak', 543),\n",
        " (u'o', 515),\n",
        " (u'tak', 506),\n",
        " (u'od', 426),\n",
        " (u'co', 411),\n",
        " (u'za', 410)]"
       ]
      }
     ],
     "prompt_number": 23
    },
    {
     "cell_type": "code",
     "collapsed": false,
     "input": [
      "len(counts)"
     ],
     "language": "python",
     "metadata": {},
     "outputs": [
      {
       "output_type": "pyout",
       "prompt_number": 7,
       "text": [
        "20581"
       ]
      }
     ],
     "prompt_number": 7
    },
    {
     "cell_type": "code",
     "collapsed": false,
     "input": [
      "def root_word(word, stem_dict):\n",
      "    if word in stem_dict:\n",
      "        return stem_dict[word]\n",
      "    else:\n",
      "        return word"
     ],
     "language": "python",
     "metadata": {},
     "outputs": [],
     "prompt_number": 8
    },
    {
     "cell_type": "code",
     "collapsed": false,
     "input": [
      "zliczenia = {}\n",
      "for w, c in counts.items():\n",
      "    if root_word(w, stem_kolor) in kolory:\n",
      "        try:\n",
      "            zliczenia[root_word(w, stem_kolor)] += c\n",
      "        except:\n",
      "            zliczenia[root_word(w, stem_kolor)] = c"
     ],
     "language": "python",
     "metadata": {},
     "outputs": [],
     "prompt_number": 9
    },
    {
     "cell_type": "code",
     "collapsed": false,
     "input": [
      "zliczenia_re = {}\n",
      "for w, c in counts_re.items():\n",
      "    if root_word(w, stem_kolor) in kolory:\n",
      "        try:\n",
      "            zliczenia_re[root_word(w, stem_kolor)] += c\n",
      "        except:\n",
      "            zliczenia_re[root_word(w, stem_kolor)] = c"
     ],
     "language": "python",
     "metadata": {},
     "outputs": [],
     "prompt_number": 24
    },
    {
     "cell_type": "code",
     "collapsed": true,
     "input": [
      "sorted(zliczenia.items(), key=lambda x: -x[1])"
     ],
     "language": "python",
     "metadata": {},
     "outputs": [
      {
       "output_type": "pyout",
       "prompt_number": 26,
       "text": [
        "[(u'bia\\u0142y', 122),\n",
        " ('czarny', 63),\n",
        " ('czerwony', 26),\n",
        " (u'r\\xf3\\u017cowy', 18),\n",
        " ('zielony', 14),\n",
        " ('niebieski', 13),\n",
        " ('srebrny', 11),\n",
        " (u'\\u017c\\xf3\\u0142ty', 10),\n",
        " (u'p\\u0142owy', 9),\n",
        " ('szary', 8),\n",
        " (u'z\\u0142oty', 7),\n",
        " ('miedziany', 6),\n",
        " (u'b\\u0142\\u0119kitny', 6),\n",
        " ('purpurowy', 5),\n",
        " ('popielaty', 4),\n",
        " ('bananowy', 3),\n",
        " ('stalowy', 3),\n",
        " ('morski', 3),\n",
        " (u'wi\\u015bniowy', 2),\n",
        " ('szarozielony', 2),\n",
        " (u'go\\u0142\\u0119bi', 2),\n",
        " ('jasnozielony', 2),\n",
        " ('liliowy', 2),\n",
        " ('piaskowy', 2),\n",
        " ('rudy', 2),\n",
        " ('brunatny', 2),\n",
        " ('woskowy', 1),\n",
        " ('hebanowy', 1),\n",
        " ('lila', 1),\n",
        " (u'p\\u0105sowy', 1),\n",
        " (u'pomara\\u0144czowy', 1),\n",
        " ('siny', 1),\n",
        " ('koralowy', 1),\n",
        " ('bury', 1),\n",
        " ('cynamonowy', 1),\n",
        " ('jasnoniebieski', 1)]"
       ]
      }
     ],
     "prompt_number": 26
    },
    {
     "cell_type": "code",
     "collapsed": false,
     "input": [
      "sorted(zliczenia_re.items(), key=lambda x: -x[1])"
     ],
     "language": "python",
     "metadata": {},
     "outputs": [
      {
       "output_type": "pyout",
       "prompt_number": 25,
       "text": [
        "[(u'bia\\u0142y', 129),\n",
        " ('czarny', 70),\n",
        " ('czerwony', 26),\n",
        " (u'r\\xf3\\u017cowy', 19),\n",
        " ('zielony', 14),\n",
        " ('niebieski', 13),\n",
        " ('srebrny', 11),\n",
        " (u'\\u017c\\xf3\\u0142ty', 10),\n",
        " (u'p\\u0142owy', 9),\n",
        " ('szary', 8),\n",
        " (u'z\\u0142oty', 8),\n",
        " ('miedziany', 6),\n",
        " (u'b\\u0142\\u0119kitny', 6),\n",
        " ('purpurowy', 5),\n",
        " ('popielaty', 4),\n",
        " ('stalowy', 4),\n",
        " ('morski', 4),\n",
        " ('bananowy', 3),\n",
        " (u'go\\u0142\\u0119bi', 3),\n",
        " (u'wi\\u015bniowy', 2),\n",
        " ('jasnozielony', 2),\n",
        " ('liliowy', 2),\n",
        " ('piaskowy', 2),\n",
        " ('rudy', 2),\n",
        " ('szarozielony', 2),\n",
        " ('brunatny', 2),\n",
        " ('woskowy', 1),\n",
        " ('lila', 1),\n",
        " (u'p\\u0105sowy', 1),\n",
        " (u'pomara\\u0144czowy', 1),\n",
        " ('siny', 1),\n",
        " ('koralowy', 1),\n",
        " ('granatowy', 1),\n",
        " ('bury', 1),\n",
        " ('cynamonowy', 1),\n",
        " ('jasnoniebieski', 1),\n",
        " ('hebanowy', 1),\n",
        " (u'per\\u0142owy', 1)]"
       ]
      }
     ],
     "prompt_number": 25
    },
    {
     "cell_type": "code",
     "collapsed": false,
     "input": [
      "# kolory_lektur = {\"w-pustynii-i-w-puszczy\":[{\"name\": k, \"count\": v, \"r\":kolory[k][\"r\"], \"g\":kolory[k][\"g\"], \"b\":kolory[k][\"b\"], \"hex\":kolory[k][\"hex\"]}\n",
      "#    for k, v in sorted(zliczenia.items(), key=lambda x: -x[1])]}"
     ],
     "language": "python",
     "metadata": {},
     "outputs": [
      {
       "ename": "KeyError",
       "evalue": "'hex'",
       "output_type": "pyerr",
       "traceback": [
        "\u001b[0;31m---------------------------------------------------------------------------\u001b[0m\n\u001b[0;31mKeyError\u001b[0m                                  Traceback (most recent call last)",
        "\u001b[0;32m<ipython-input-11-92ebf5b21f7b>\u001b[0m in \u001b[0;36m<module>\u001b[0;34m()\u001b[0m\n\u001b[1;32m      1\u001b[0m kolory_lektur = {\"w-pustynii-i-w-puszczy\":[{\"name\": k, \"count\": v, \"r\":kolory[k][\"r\"], \"g\":kolory[k][\"g\"], \"b\":kolory[k][\"b\"], \"hex\":kolory[k][\"hex\"]}\n\u001b[0;32m----> 2\u001b[0;31m     for k, v in sorted(zliczenia.items(), key=lambda x: -x[1])]}\n\u001b[0m",
        "\u001b[0;31mKeyError\u001b[0m: 'hex'"
       ]
      }
     ],
     "prompt_number": 11
    },
    {
     "cell_type": "code",
     "collapsed": false,
     "input": [
      "kolory_lektur = {\"w-pustynii-i-w-puszczy\":[{\"name\": k, \"count\": v, \"r\":kolory[k][\"r\"], \"g\":kolory[k][\"g\"], \"b\":kolory[k][\"b\"]}\n",
      "   for k, v in sorted(zliczenia.items(), key=lambda x: -x[1])]}"
     ],
     "language": "python",
     "metadata": {},
     "outputs": [],
     "prompt_number": 12
    },
    {
     "cell_type": "code",
     "collapsed": false,
     "input": [
      "json.dump(kolory_lektur, open(\"kolory_lektur_1.json\", \"w\"), indent=2)"
     ],
     "language": "python",
     "metadata": {},
     "outputs": [],
     "prompt_number": 13
    },
    {
     "cell_type": "code",
     "collapsed": false,
     "input": [
      "slowa_zielone = [slowo for slowo in slowa if \"zielon\" in slowo]"
     ],
     "language": "python",
     "metadata": {},
     "outputs": [],
     "prompt_number": 39
    },
    {
     "cell_type": "code",
     "collapsed": false,
     "input": [
      "Counter(slowa_zielone).most_common(5)"
     ],
     "language": "python",
     "metadata": {},
     "outputs": [
      {
       "output_type": "pyout",
       "prompt_number": 40,
       "text": [
        "[(u'zielon\\u0105', 4),\n",
        " (u'zielonawe', 2),\n",
        " (u'rozdzielone', 2),\n",
        " (u'zielonych', 2),\n",
        " (u'zielone', 2)]"
       ]
      }
     ],
     "prompt_number": 40
    },
    {
     "cell_type": "code",
     "collapsed": false,
     "input": [
      "len(slowa_zielone)"
     ],
     "language": "python",
     "metadata": {},
     "outputs": [
      {
       "output_type": "pyout",
       "prompt_number": 41,
       "text": [
        "32"
       ]
      }
     ],
     "prompt_number": 41
    },
    {
     "cell_type": "code",
     "collapsed": false,
     "input": [
      "slowa_zielone"
     ],
     "language": "python",
     "metadata": {},
     "outputs": [
      {
       "output_type": "pyout",
       "prompt_number": 42,
       "text": [
        "[u'zielonawe',\n",
        " u'oddzielona',\n",
        " u'zielono\\u015bci',\n",
        " u'zielono',\n",
        " u'zielonawo',\n",
        " u'zielony',\n",
        " u'zielonym',\n",
        " u'zielon\\u0105',\n",
        " u'zielono\\u015b\\u0107',\n",
        " u'oddzielonego',\n",
        " u'jasnozielone',\n",
        " u'oddzielony',\n",
        " u'jasnozielon\\u0105',\n",
        " u'ciemnozielonaw\\u0105',\n",
        " u'zielon\\u0105',\n",
        " u'zielonych',\n",
        " u'zielonawe',\n",
        " u'szarozielony',\n",
        " u'zielonego',\n",
        " u'rozdzielone',\n",
        " u'szarozielon\\u0105',\n",
        " u'rozdzielone',\n",
        " u'zielon\\u0105',\n",
        " u'zielone',\n",
        " u'zielon\\u0105',\n",
        " u'zielonych',\n",
        " u'zielonoszare',\n",
        " u'zielone',\n",
        " u'podzielonej',\n",
        " u'zielona',\n",
        " u'zielonej',\n",
        " u'oddzielona']"
       ]
      }
     ],
     "prompt_number": 42
    },
    {
     "cell_type": "code",
     "collapsed": false,
     "input": [
      "slowa_zielonawe = [slowo for slowo in slowa if \"zielono\" in slowo]\n",
      "slowa_zielonawe"
     ],
     "language": "python",
     "metadata": {},
     "outputs": [
      {
       "output_type": "pyout",
       "prompt_number": 44,
       "text": [
        "[u'zielono\\u015bci', u'zielono', u'zielono\\u015b\\u0107', u'zielonoszare']"
       ]
      }
     ],
     "prompt_number": 44
    },
    {
     "cell_type": "code",
     "collapsed": false,
     "input": [
      "[slowo for slowo in slowa if \"czerwono\" in slowo]"
     ],
     "language": "python",
     "metadata": {},
     "outputs": [
      {
       "output_type": "pyout",
       "prompt_number": 45,
       "text": [
        "[u'czerwono', u'czerwono', u'czerwonosk\\xf3rych', u'czerwono']"
       ]
      }
     ],
     "prompt_number": 45
    },
    {
     "cell_type": "code",
     "collapsed": false,
     "input": [
      "def kolorki(href):\n",
      "    tekst = requests.get(href).content.decode(\"utf-8\")\n",
      "    slowa = map(unicode.lower, nltk.word_tokenize(tekst))\n",
      "    print u\"S\u0142\u00f3w: %d\" % len(slowa)\n",
      "    counts = Counter(slowa)\n",
      "    zliczenia = {}\n",
      "    for w, c in counts.items():\n",
      "        if root_word(w, stem_kolor) in kolory:\n",
      "            try:\n",
      "                zliczenia[root_word(w, stem_kolor)] += c\n",
      "            except:\n",
      "                zliczenia[root_word(w, stem_kolor)] = c\n",
      "    return sorted(zliczenia.items(), key=lambda x: -x[1])"
     ],
     "language": "python",
     "metadata": {},
     "outputs": [],
     "prompt_number": 60
    },
    {
     "cell_type": "code",
     "collapsed": false,
     "input": [
      "wpip_kol = kolorki(\"http://wolnelektury.pl/media/book/txt/w-pustyni-i-w-puszczy.txt\")"
     ],
     "language": "python",
     "metadata": {},
     "outputs": [
      {
       "output_type": "stream",
       "stream": "stdout",
       "text": [
        "S\u0142\u00f3w: 114039\n"
       ]
      }
     ],
     "prompt_number": 64
    },
    {
     "cell_type": "code",
     "collapsed": false,
     "input": [
      "sum([v * np.array([int(kolory[k][\"r\"]), int(kolory[k][\"g\"]), int(kolory[k][\"b\"])]) for k, v in wpip_kol])/float(sum([v for k, v in wpip_kol]))"
     ],
     "language": "python",
     "metadata": {},
     "outputs": [
      {
       "output_type": "pyout",
       "prompt_number": 71,
       "text": [
        "array([ 170.86894587,  146.03988604,  136.76068376])"
       ]
      }
     ],
     "prompt_number": 71
    },
    {
     "cell_type": "code",
     "collapsed": false,
     "input": [
      "oim_kol = kolorki(\"http://wolnelektury.pl/media/book/txt/ogniem-i-mieczem-tom-pierwszy_1.txt\")"
     ],
     "language": "python",
     "metadata": {},
     "outputs": [
      {
       "output_type": "stream",
       "stream": "stdout",
       "text": [
        "S\u0142\u00f3w: 142962\n"
       ]
      }
     ],
     "prompt_number": 72
    },
    {
     "cell_type": "code",
     "collapsed": false,
     "input": [
      "kolorki(\"http://wolnelektury.pl/media/book/txt/do-nieznajomej_1.txt\")"
     ],
     "language": "python",
     "metadata": {},
     "outputs": [
      {
       "output_type": "stream",
       "stream": "stdout",
       "text": [
        "S\u0142\u00f3w: 384\n"
       ]
      },
      {
       "output_type": "pyout",
       "prompt_number": 63,
       "text": [
        "[]"
       ]
      }
     ],
     "prompt_number": 63
    },
    {
     "cell_type": "code",
     "collapsed": false,
     "input": [
      "sum([v * np.array([int(kolory[k][\"r\"]), int(kolory[k][\"g\"]), int(kolory[k][\"b\"])]) for k, v in oim_kol])/float(sum([v for k, v in oim_kol]))"
     ],
     "language": "python",
     "metadata": {},
     "outputs": [
      {
       "output_type": "pyout",
       "prompt_number": 73,
       "text": [
        "array([ 160.65789474,  104.65789474,   73.55263158])"
       ]
      }
     ],
     "prompt_number": 73
    },
    {
     "cell_type": "code",
     "collapsed": false,
     "input": [
      "przed_kol = kolorki(\"http://wolnelektury.pl/media/book/txt/przedwiosnie_2.txt\")"
     ],
     "language": "python",
     "metadata": {},
     "outputs": [
      {
       "output_type": "stream",
       "stream": "stdout",
       "text": [
        "S\u0142\u00f3w: 95456\n"
       ]
      }
     ],
     "prompt_number": 74
    },
    {
     "cell_type": "code",
     "collapsed": false,
     "input": [
      "przed_kol"
     ],
     "language": "python",
     "metadata": {},
     "outputs": [
      {
       "output_type": "pyout",
       "prompt_number": 75,
       "text": [
        "[('czarny', 64),\n",
        " (u'bia\\u0142y', 34),\n",
        " (u'z\\u0142oty', 19),\n",
        " ('czerwony', 17),\n",
        " ('winny', 15),\n",
        " ('szary', 13),\n",
        " ('niebieski', 10),\n",
        " ('srebrny', 9),\n",
        " (u'\\u017c\\xf3\\u0142ty', 8),\n",
        " (u'r\\xf3\\u017cowy', 5),\n",
        " ('siwy', 4),\n",
        " ('rudy', 3),\n",
        " ('zielony', 3),\n",
        " ('siny', 3),\n",
        " ('morski', 3),\n",
        " (u'fio\\u0142kowy', 2),\n",
        " ('stalowy', 2),\n",
        " ('brzoskwiniowy', 2),\n",
        " ('fioletowy', 2),\n",
        " ('mleczny', 2),\n",
        " ('cielisty', 1),\n",
        " ('minia', 1),\n",
        " ('mysi', 1),\n",
        " (u'z\\u0142ocisty', 1),\n",
        " (u'pomara\\u0144czowy', 1),\n",
        " ('granatowy', 1),\n",
        " ('bury', 1),\n",
        " ('rdzawy', 1),\n",
        " ('orzechowy', 1),\n",
        " ('brunatny', 1)]"
       ]
      }
     ],
     "prompt_number": 75
    },
    {
     "cell_type": "code",
     "collapsed": false,
     "input": [
      "sum([v * np.array([int(kolory[k][\"r\"]), int(kolory[k][\"g\"]), int(kolory[k][\"b\"])]) for k, v in przed_kol])/float(sum([v for k, v in przed_kol]))"
     ],
     "language": "python",
     "metadata": {},
     "outputs": [
      {
       "output_type": "pyout",
       "prompt_number": 76,
       "text": [
        "array([ 138.33913043,  104.66086957,   91.19565217])"
       ]
      }
     ],
     "prompt_number": 76
    },
    {
     "cell_type": "code",
     "collapsed": false,
     "input": [
      "kolorki(\"http://wolnelektury.pl/media/book/txt/kopciuszek_2.txt\")"
     ],
     "language": "python",
     "metadata": {},
     "outputs": [
      {
       "output_type": "stream",
       "stream": "stdout",
       "text": [
        "S\u0142\u00f3w: 1937\n"
       ]
      },
      {
       "output_type": "pyout",
       "prompt_number": 78,
       "text": [
        "[(u'z\\u0142oty', 2),\n",
        " (u'go\\u0142\\u0119bi', 1),\n",
        " ('niebieski', 1),\n",
        " (u'z\\u0142ocisty', 1),\n",
        " ('winny', 1)]"
       ]
      }
     ],
     "prompt_number": 78
    },
    {
     "cell_type": "code",
     "collapsed": false,
     "input": [
      "kolorki(\"http://wolnelektury.pl/media/book/txt/krolowa-sniegu_3.txt\")"
     ],
     "language": "python",
     "metadata": {},
     "outputs": [
      {
       "output_type": "stream",
       "stream": "stdout",
       "text": [
        "S\u0142\u00f3w: 9952\n"
       ]
      },
      {
       "output_type": "pyout",
       "prompt_number": 79,
       "text": [
        "[(u'bia\\u0142y', 31),\n",
        " ('czerwony', 17),\n",
        " (u'z\\u0142oty', 11),\n",
        " (u'\\u017c\\xf3\\u0142ty', 6),\n",
        " (u'go\\u0142\\u0119bi', 6),\n",
        " ('czarny', 6),\n",
        " ('zielony', 5),\n",
        " ('szary', 3),\n",
        " ('siny', 3),\n",
        " ('niebieski', 3),\n",
        " (u'z\\u0142ocisty', 3),\n",
        " (u'r\\xf3\\u017cowy', 2),\n",
        " (u'wi\\u015bniowy', 1),\n",
        " ('siwy', 1),\n",
        " ('miedziany', 1),\n",
        " ('winny', 1),\n",
        " ('purpurowy', 1)]"
       ]
      }
     ],
     "prompt_number": 79
    },
    {
     "cell_type": "code",
     "collapsed": false,
     "input": [
      "kolorki(\"http://wolnelektury.pl/media/book/txt/czerwone-i-czarne_3.txt\")"
     ],
     "language": "python",
     "metadata": {},
     "outputs": [
      {
       "output_type": "stream",
       "stream": "stdout",
       "text": [
        "S\u0142\u00f3w: 155618\n"
       ]
      },
      {
       "output_type": "pyout",
       "prompt_number": 80,
       "text": [
        "[('czarny', 67),\n",
        " ('winny', 34),\n",
        " ('czerwony', 22),\n",
        " (u'bia\\u0142y', 21),\n",
        " (u'z\\u0142oty', 20),\n",
        " ('niebieski', 18),\n",
        " ('zielony', 8),\n",
        " ('szary', 7),\n",
        " ('biskupi', 6),\n",
        " ('srebrny', 5),\n",
        " ('siny', 5),\n",
        " ('karmazynowy', 4),\n",
        " ('minia', 3),\n",
        " ('morski', 2),\n",
        " ('popielaty', 1),\n",
        " (u'br\\u0105zowy', 1),\n",
        " ('marengo', 1),\n",
        " ('woskowy', 1),\n",
        " ('mleczny', 1),\n",
        " (u'pomara\\u0144czowy', 1),\n",
        " ('porcelanowy', 1),\n",
        " ('alabastrowy', 1),\n",
        " ('kasztanowy', 1),\n",
        " (u'r\\xf3\\u017cowy', 1),\n",
        " ('purpurowy', 1),\n",
        " ('fioletowy', 1),\n",
        " (u'\\u017c\\xf3\\u0142ty', 1),\n",
        " ('rdzawy', 1)]"
       ]
      }
     ],
     "prompt_number": 80
    },
    {
     "cell_type": "code",
     "collapsed": false,
     "input": [
      "kolorki(\"http://wolnelektury.pl/media/book/txt/u-krola-olch_1.txt\")"
     ],
     "language": "python",
     "metadata": {},
     "outputs": [
      {
       "output_type": "stream",
       "stream": "stdout",
       "text": [
        "S\u0142\u00f3w: 2715\n"
       ]
      },
      {
       "output_type": "pyout",
       "prompt_number": 81,
       "text": [
        "[(u'z\\u0142oty', 4),\n",
        " (u'bia\\u0142y', 3),\n",
        " ('czerwony', 2),\n",
        " ('zielony', 1),\n",
        " ('bursztynowy', 1),\n",
        " ('miedziany', 1),\n",
        " ('mysi', 1)]"
       ]
      }
     ],
     "prompt_number": 81
    },
    {
     "cell_type": "code",
     "collapsed": false,
     "input": [
      "nltk.word_tokenize(\"purpurowo-zielony\")"
     ],
     "language": "python",
     "metadata": {},
     "outputs": [
      {
       "output_type": "pyout",
       "prompt_number": 27,
       "text": [
        "['purpurowo-zielony']"
       ]
      }
     ],
     "prompt_number": 27
    },
    {
     "cell_type": "code",
     "collapsed": false,
     "input": [
      "re.findall(ur\"[\\w]+\", \"purpurowo-zielony\", re.UNICODE)"
     ],
     "language": "python",
     "metadata": {},
     "outputs": [
      {
       "output_type": "pyout",
       "prompt_number": 28,
       "text": [
        "['purpurowo', 'zielony']"
       ]
      }
     ],
     "prompt_number": 28
    },
    {
     "cell_type": "code",
     "collapsed": false,
     "input": [],
     "language": "python",
     "metadata": {},
     "outputs": []
    }
   ],
   "metadata": {}
  }
 ]
}