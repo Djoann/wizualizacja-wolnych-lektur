{
 "metadata": {
  "name": "zsysamy teksty"
 },
 "nbformat": 3,
 "nbformat_minor": 0,
 "worksheets": [
  {
   "cells": [
    {
     "cell_type": "code",
     "collapsed": false,
     "input": [
      "import requests\n",
      "import simplejson as json\n",
      "import re"
     ],
     "language": "python",
     "metadata": {},
     "outputs": [],
     "prompt_number": 29
    },
    {
     "cell_type": "code",
     "collapsed": false,
     "input": [
      "def jget(url):\n",
      "    return json.loads(requests.get(url).content)"
     ],
     "language": "python",
     "metadata": {},
     "outputs": [],
     "prompt_number": 2
    },
    {
     "cell_type": "code",
     "collapsed": false,
     "input": [
      "books = jget(\"http://wolnelektury.pl/api/books/\")"
     ],
     "language": "python",
     "metadata": {},
     "outputs": [],
     "prompt_number": 3
    },
    {
     "cell_type": "code",
     "collapsed": false,
     "input": [
      "books[0]"
     ],
     "language": "python",
     "metadata": {},
     "outputs": [
      {
       "output_type": "pyout",
       "prompt_number": 5,
       "text": [
        "{'author': u'Tristan Der\\xe8me',\n",
        " 'cover': 'http://wolnelektury.pl/media/book/png/ach-rzucic-sieci-zdarte.png',\n",
        " 'href': 'http://wolnelektury.pl/api/books/ach-rzucic-sieci-zdarte/',\n",
        " 'title': u'(Ach! rzuci\\u0107 sieci zdarte...)',\n",
        " 'url': 'http://wolnelektury.pl/katalog/lektura/ach-rzucic-sieci-zdarte/'}"
       ]
      }
     ],
     "prompt_number": 5
    },
    {
     "cell_type": "code",
     "collapsed": false,
     "input": [
      "for i, book in enumerate(books):\n",
      "    try:\n",
      "        books[i][\"txt\"] = jget(book[\"href\"])[\"txt\"]\n",
      "    except:\n",
      "        print \"Error at %s\" % book[\"title\"]"
     ],
     "language": "python",
     "metadata": {},
     "outputs": [],
     "prompt_number": 20
    },
    {
     "cell_type": "code",
     "collapsed": false,
     "input": [
      "books[0]"
     ],
     "language": "python",
     "metadata": {},
     "outputs": [
      {
       "output_type": "pyout",
       "prompt_number": 21,
       "text": [
        "{'author': u'Tristan Der\\xe8me',\n",
        " 'cover': 'http://wolnelektury.pl/media/book/png/ach-rzucic-sieci-zdarte.png',\n",
        " 'href': 'http://wolnelektury.pl/api/books/ach-rzucic-sieci-zdarte/',\n",
        " 'title': u'(Ach! rzuci\\u0107 sieci zdarte...)',\n",
        " 'txt': 'http://wolnelektury.pl/media/book/txt/ach-rzucic-sieci-zdarte_1.txt',\n",
        " 'url': 'http://wolnelektury.pl/katalog/lektura/ach-rzucic-sieci-zdarte/'}"
       ]
      }
     ],
     "prompt_number": 21
    },
    {
     "cell_type": "code",
     "collapsed": false,
     "input": [
      "tmp = requests.get(books[345][\"txt\"]).content.decode(\"utf-8\")"
     ],
     "language": "python",
     "metadata": {},
     "outputs": [],
     "prompt_number": 56
    },
    {
     "cell_type": "code",
     "collapsed": false,
     "input": [
      "print tmp[:200]"
     ],
     "language": "python",
     "metadata": {},
     "outputs": [
      {
       "output_type": "stream",
       "stream": "stdout",
       "text": [
        "Aloysius Bertrand\n",
        "\n",
        "Do P. Davida, snycerza pos\u0105g\u00f3w\n",
        "t\u0142um. Stefan Napierski\n",
        "\n",
        "\n",
        "\n",
        "\n",
        "\n",
        "\n",
        "\n",
        "(Gilbert)\n",
        "\n",
        "Nie, B\u00f3g, rozb\u0142ysk, kt\u00f3ry pa\u0142a w tr\u00f3jk\u0105cie symbolicznym, nie jest pismem, wyrytym na wargach wiedzy ludzkiej!\n"
       ]
      }
     ],
     "prompt_number": 58
    },
    {
     "cell_type": "code",
     "collapsed": false,
     "input": [
      "tmp.find(\"-----\\nTa lektura, podobnie jak\")"
     ],
     "language": "python",
     "metadata": {},
     "outputs": [
      {
       "output_type": "pyout",
       "prompt_number": 51,
       "text": [
        "279"
       ]
      }
     ],
     "prompt_number": 51
    },
    {
     "cell_type": "code",
     "collapsed": false,
     "input": [
      "tmp2 = re.findall(ur\"[\\w]+\", tmp, re.UNICODE)"
     ],
     "language": "python",
     "metadata": {},
     "outputs": [],
     "prompt_number": 46
    },
    {
     "cell_type": "code",
     "collapsed": false,
     "input": [
      "tmp2"
     ],
     "language": "python",
     "metadata": {},
     "outputs": [
      {
       "output_type": "pyout",
       "prompt_number": 47,
       "text": [
        "[u'Edmund',\n",
        " u'Wasilewski',\n",
        " u'Na',\n",
        " u'Wawel',\n",
        " u'na',\n",
        " u'Wawel',\n",
        " u'Na',\n",
        " u'Wawel',\n",
        " u'na',\n",
        " u'Wawel',\n",
        " u'Krakowiaku',\n",
        " u'\\u017cwawy',\n",
        " u'Podumaj',\n",
        " u'pot\\u0119sknij',\n",
        " u'Nad',\n",
        " u'pomnikiem',\n",
        " u's\\u0142awy',\n",
        " u'Dzieje',\n",
        " u'twojej',\n",
        " u'ziemi',\n",
        " u'Na',\n",
        " u'grobowcach',\n",
        " u'czytaj',\n",
        " u'Twoich',\n",
        " u'wodz\\xf3w',\n",
        " u'groby',\n",
        " u'U\\u015bciskiem',\n",
        " u'powitaj',\n",
        " u'Popatrz',\n",
        " u'si\\u0119',\n",
        " u'po',\n",
        " u'g\\xf3rach',\n",
        " u'Po',\n",
        " u'do\\u0142ach',\n",
        " u'r\\xf3wninach',\n",
        " u'Nie',\n",
        " u'dziewic',\n",
        " u'mi\\u0142o\\u015bci\\u0105',\n",
        " u'Krew',\n",
        " u'ci',\n",
        " u'p\\u0142ynie',\n",
        " u'w',\n",
        " u'\\u017cy\\u0142ach',\n",
        " u'Tu',\n",
        " u'twych',\n",
        " u'ojc\\xf3w',\n",
        " u'ko\\u015bci',\n",
        " u'Bielej\\u0105',\n",
        " u'spod',\n",
        " u'sochy',\n",
        " u'Tam',\n",
        " u'w',\n",
        " u'powietrzu',\n",
        " u'drgaj\\u0105',\n",
        " u'Braci',\n",
        " u'twoich',\n",
        " u'prochy',\n",
        " u'Przy\\u0142\\xf3\\u017c',\n",
        " u'usta',\n",
        " u'do',\n",
        " u'nich',\n",
        " u'I',\n",
        " u's\\u0142odycz',\n",
        " u'wysysaj',\n",
        " u'Na',\n",
        " u'ich',\n",
        " u'\\u0142onie',\n",
        " u'g\\u0142ow\\u0119',\n",
        " u'Do',\n",
        " u'snu',\n",
        " u'uko\\u0142ysaj',\n",
        " u'Do',\n",
        " u'snu',\n",
        " u'uko\\u0142ysaj',\n",
        " u'Niech',\n",
        " u'si\\u0119',\n",
        " u'przy\\u015bni\\u0105',\n",
        " u'tobie',\n",
        " u'Tysi\\u0105ce',\n",
        " u'tysi\\u0119cy',\n",
        " u'Co',\n",
        " u'ju\\u017c',\n",
        " u'le\\u017c\\u0105',\n",
        " u'w',\n",
        " u'grobie',\n",
        " u'Ta',\n",
        " u'lektura',\n",
        " u'podobnie',\n",
        " u'jak',\n",
        " u'tysi\\u0105ce',\n",
        " u'innych',\n",
        " u'dost\\u0119pna',\n",
        " u'jest',\n",
        " u'na',\n",
        " u'stronie',\n",
        " u'wolnelektury',\n",
        " u'pl',\n",
        " u'Wersja',\n",
        " u'lektury',\n",
        " u'w',\n",
        " u'opracowaniu',\n",
        " u'merytorycznym',\n",
        " u'i',\n",
        " u'krytycznym',\n",
        " u'przypisy',\n",
        " u'i',\n",
        " u'motywy',\n",
        " u'dost\\u0119pna',\n",
        " u'jest',\n",
        " u'na',\n",
        " u'stronie',\n",
        " u'http',\n",
        " u'wolnelektury',\n",
        " u'pl',\n",
        " u'katalog',\n",
        " u'lektura',\n",
        " u'na',\n",
        " u'wawel',\n",
        " u'na',\n",
        " u'wawel',\n",
        " u'Utw\\xf3r',\n",
        " u'opracowany',\n",
        " u'zosta\\u0142',\n",
        " u'w',\n",
        " u'ramach',\n",
        " u'projektu',\n",
        " u'Wolne',\n",
        " u'Lektury',\n",
        " u'przez',\n",
        " u'fundacj\\u0119',\n",
        " u'Nowoczesna',\n",
        " u'Polska',\n",
        " u'Ten',\n",
        " u'utw\\xf3r',\n",
        " u'nie',\n",
        " u'jest',\n",
        " u'chroniony',\n",
        " u'prawem',\n",
        " u'autorskim',\n",
        " u'i',\n",
        " u'znajduje',\n",
        " u'si\\u0119',\n",
        " u'w',\n",
        " u'domenie',\n",
        " u'publicznej',\n",
        " u'co',\n",
        " u'oznacza',\n",
        " u'\\u017ce',\n",
        " u'mo\\u017cesz',\n",
        " u'go',\n",
        " u'swobodnie',\n",
        " u'wykorzystywa\\u0107',\n",
        " u'publikowa\\u0107',\n",
        " u'i',\n",
        " u'rozpowszechnia\\u0107',\n",
        " u'Je\\u015bli',\n",
        " u'utw\\xf3r',\n",
        " u'opatrzony',\n",
        " u'jest',\n",
        " u'dodatkowymi',\n",
        " u'materia\\u0142ami',\n",
        " u'przypisy',\n",
        " u'motywy',\n",
        " u'literackie',\n",
        " u'etc',\n",
        " u'kt\\xf3re',\n",
        " u'podlegaj\\u0105',\n",
        " u'prawu',\n",
        " u'autorskiemu',\n",
        " u'to',\n",
        " u'te',\n",
        " u'dodatkowe',\n",
        " u'materia\\u0142y',\n",
        " u'udost\\u0119pnione',\n",
        " u's\\u0105',\n",
        " u'na',\n",
        " u'licencji',\n",
        " u'Creative',\n",
        " u'Commons',\n",
        " u'Uznanie',\n",
        " u'Autorstwa',\n",
        " u'Na',\n",
        " u'Tych',\n",
        " u'Samych',\n",
        " u'Warunkach',\n",
        " u'3',\n",
        " u'0',\n",
        " u'PL',\n",
        " u'http',\n",
        " u'creativecommons',\n",
        " u'org',\n",
        " u'licenses',\n",
        " u'by',\n",
        " u'sa',\n",
        " u'3',\n",
        " u'0',\n",
        " u'Tekst',\n",
        " u'opracowany',\n",
        " u'na',\n",
        " u'podstawie',\n",
        " u'Polski',\n",
        " u'\\u015apiewnik',\n",
        " u'Zawieraj\\u0105cy',\n",
        " u'286',\n",
        " u'pie\\u015bni',\n",
        " u'i',\n",
        " u'\\u015bpiew\\xf3w',\n",
        " u'najbardziej',\n",
        " u'ulubionych',\n",
        " u'ludowych',\n",
        " u'towarzyskich',\n",
        " u'okoliczno\\u015bciowych',\n",
        " u'mi\\u0142osnych',\n",
        " u'patryotycznych',\n",
        " u'historycznych',\n",
        " u'i',\n",
        " u'innych',\n",
        " u'Cz',\n",
        " u'1',\n",
        " u'nak\\u0142',\n",
        " u'Edwarda',\n",
        " u'Feitzingera',\n",
        " u'Cieszyn',\n",
        " u'ok',\n",
        " u'1915',\n",
        " u'Publikacja',\n",
        " u'zrealizowana',\n",
        " u'w',\n",
        " u'ramach',\n",
        " u'projektu',\n",
        " u'Wolne',\n",
        " u'Lektury',\n",
        " u'http',\n",
        " u'wolnelektury',\n",
        " u'pl',\n",
        " u'Reprodukcja',\n",
        " u'cyfrowa',\n",
        " u'wykonana',\n",
        " u'przez',\n",
        " u'Bibliotek\\u0119',\n",
        " u'\\u015al\\u0105sk\\u0105',\n",
        " u'z',\n",
        " u'egzemplarza',\n",
        " u'pochodz\\u0105cego',\n",
        " u'ze',\n",
        " u'zbior\\xf3w',\n",
        " u'B\\u015a',\n",
        " u'Opracowanie',\n",
        " u'redakcyjne',\n",
        " u'i',\n",
        " u'przypisy',\n",
        " u'Dorota',\n",
        " u'Kowalska',\n",
        " u'Marta',\n",
        " u'Niedzia\\u0142kowska',\n",
        " u'Weronika',\n",
        " u'Trzeciak']"
       ]
      }
     ],
     "prompt_number": 47
    },
    {
     "cell_type": "code",
     "collapsed": false,
     "input": [
      "for i, book in enumerate(books[:5]):\n",
      "    tytul = book[\"url\"].split(\"/\")[-2]\n",
      "    tresc = requests.get(book[\"txt\"]).content\n",
      "    f = open(\"books_txt/\" + tytul + \".txt\", \"w\")\n",
      "    f.write(tresc)\n",
      "    f.close()\n",
      "    print \"%d: %s\" % (i, tytul)"
     ],
     "language": "python",
     "metadata": {},
     "outputs": [
      {
       "output_type": "stream",
       "stream": "stdout",
       "text": [
        "0: ach-rzucic-sieci-zdarte\n",
        "1: bartoszu-bartoszu"
       ]
      },
      {
       "output_type": "stream",
       "stream": "stdout",
       "text": [
        "\n",
        "2: moreas-bluszcze-jakimi-zwisacie-wdziekiem"
       ]
      },
      {
       "output_type": "stream",
       "stream": "stdout",
       "text": [
        "\n",
        "3: napoj-cienisty-bog-mnie-opuscil"
       ]
      },
      {
       "output_type": "stream",
       "stream": "stdout",
       "text": [
        "\n",
        "4: bursztyn-zyto-dojrzale"
       ]
      },
      {
       "output_type": "stream",
       "stream": "stdout",
       "text": [
        "\n"
       ]
      }
     ],
     "prompt_number": 62
    },
    {
     "cell_type": "code",
     "collapsed": false,
     "input": [
      "no_txts = []\n",
      "for i, book in enumerate(books):\n",
      "    tytul = book[\"url\"].split(\"/\")[-2]\n",
      "    if book[\"txt\"] != \"\":\n",
      "        tresc = requests.get(book[\"txt\"]).content.decode(\"utf-8\")\n",
      "    else:\n",
      "        no_txts.append(tytul)\n",
      "    poczatek = tresc.find(\"\\n\\n\\n\")\n",
      "    koniec = tresc.find(\"-----\\nTa lektura, podobnie jak\")\n",
      "    slowa = len(re.findall(ur\"[\\w]+\", tmp[poczatek:koniec], re.UNICODE))\n",
      "   # z.append((tytul, poczatek, koniec, slowa))\n",
      "    book[\"liczba slow\"] = slowa\n",
      "    if i % 50 == 0:\n",
      "        print \"%d / %d\" % (i, len(books))"
     ],
     "language": "python",
     "metadata": {},
     "outputs": [
      {
       "output_type": "stream",
       "stream": "stdout",
       "text": [
        "0 / 2114\n",
        "50 / 2114"
       ]
      },
      {
       "output_type": "stream",
       "stream": "stdout",
       "text": [
        "\n",
        "100 / 2114"
       ]
      },
      {
       "output_type": "stream",
       "stream": "stdout",
       "text": [
        "\n",
        "150 / 2114"
       ]
      },
      {
       "output_type": "stream",
       "stream": "stdout",
       "text": [
        "\n",
        "200 / 2114"
       ]
      },
      {
       "output_type": "stream",
       "stream": "stdout",
       "text": [
        "\n",
        "250 / 2114"
       ]
      },
      {
       "output_type": "stream",
       "stream": "stdout",
       "text": [
        "\n",
        "300 / 2114"
       ]
      },
      {
       "output_type": "stream",
       "stream": "stdout",
       "text": [
        "\n",
        "350 / 2114"
       ]
      },
      {
       "output_type": "stream",
       "stream": "stdout",
       "text": [
        "\n",
        "400 / 2114"
       ]
      },
      {
       "output_type": "stream",
       "stream": "stdout",
       "text": [
        "\n",
        "450 / 2114"
       ]
      },
      {
       "output_type": "stream",
       "stream": "stdout",
       "text": [
        "\n",
        "500 / 2114"
       ]
      },
      {
       "output_type": "stream",
       "stream": "stdout",
       "text": [
        "\n",
        "550 / 2114"
       ]
      },
      {
       "output_type": "stream",
       "stream": "stdout",
       "text": [
        "\n",
        "600 / 2114"
       ]
      },
      {
       "output_type": "stream",
       "stream": "stdout",
       "text": [
        "\n",
        "650 / 2114"
       ]
      },
      {
       "output_type": "stream",
       "stream": "stdout",
       "text": [
        "\n",
        "700 / 2114"
       ]
      },
      {
       "output_type": "stream",
       "stream": "stdout",
       "text": [
        "\n",
        "750 / 2114"
       ]
      },
      {
       "output_type": "stream",
       "stream": "stdout",
       "text": [
        "\n",
        "800 / 2114"
       ]
      },
      {
       "output_type": "stream",
       "stream": "stdout",
       "text": [
        "\n",
        "850 / 2114"
       ]
      },
      {
       "output_type": "stream",
       "stream": "stdout",
       "text": [
        "\n",
        "900 / 2114"
       ]
      },
      {
       "output_type": "stream",
       "stream": "stdout",
       "text": [
        "\n",
        "950 / 2114"
       ]
      },
      {
       "output_type": "stream",
       "stream": "stdout",
       "text": [
        "\n",
        "1000 / 2114"
       ]
      },
      {
       "output_type": "stream",
       "stream": "stdout",
       "text": [
        "\n",
        "1050 / 2114"
       ]
      },
      {
       "output_type": "stream",
       "stream": "stdout",
       "text": [
        "\n",
        "1100 / 2114"
       ]
      },
      {
       "output_type": "stream",
       "stream": "stdout",
       "text": [
        "\n",
        "1150 / 2114"
       ]
      },
      {
       "output_type": "stream",
       "stream": "stdout",
       "text": [
        "\n",
        "1200 / 2114"
       ]
      },
      {
       "output_type": "stream",
       "stream": "stdout",
       "text": [
        "\n",
        "1250 / 2114"
       ]
      },
      {
       "output_type": "stream",
       "stream": "stdout",
       "text": [
        "\n",
        "1300 / 2114"
       ]
      },
      {
       "output_type": "stream",
       "stream": "stdout",
       "text": [
        "\n",
        "1350 / 2114"
       ]
      },
      {
       "output_type": "stream",
       "stream": "stdout",
       "text": [
        "\n",
        "1400 / 2114"
       ]
      },
      {
       "output_type": "stream",
       "stream": "stdout",
       "text": [
        "\n",
        "1450 / 2114"
       ]
      },
      {
       "output_type": "stream",
       "stream": "stdout",
       "text": [
        "\n",
        "1500 / 2114"
       ]
      },
      {
       "output_type": "stream",
       "stream": "stdout",
       "text": [
        "\n",
        "1550 / 2114"
       ]
      },
      {
       "output_type": "stream",
       "stream": "stdout",
       "text": [
        "\n",
        "1600 / 2114"
       ]
      },
      {
       "output_type": "stream",
       "stream": "stdout",
       "text": [
        "\n",
        "1650 / 2114"
       ]
      },
      {
       "output_type": "stream",
       "stream": "stdout",
       "text": [
        "\n",
        "1700 / 2114"
       ]
      },
      {
       "output_type": "stream",
       "stream": "stdout",
       "text": [
        "\n",
        "1750 / 2114"
       ]
      },
      {
       "output_type": "stream",
       "stream": "stdout",
       "text": [
        "\n",
        "1800 / 2114"
       ]
      },
      {
       "output_type": "stream",
       "stream": "stdout",
       "text": [
        "\n",
        "1850 / 2114"
       ]
      },
      {
       "output_type": "stream",
       "stream": "stdout",
       "text": [
        "\n",
        "1900 / 2114"
       ]
      },
      {
       "output_type": "stream",
       "stream": "stdout",
       "text": [
        "\n",
        "1950 / 2114"
       ]
      },
      {
       "output_type": "stream",
       "stream": "stdout",
       "text": [
        "\n",
        "2000 / 2114"
       ]
      },
      {
       "output_type": "stream",
       "stream": "stdout",
       "text": [
        "\n",
        "2050 / 2114"
       ]
      },
      {
       "output_type": "stream",
       "stream": "stdout",
       "text": [
        "\n",
        "2100 / 2114"
       ]
      },
      {
       "output_type": "stream",
       "stream": "stdout",
       "text": [
        "\n"
       ]
      }
     ],
     "prompt_number": 80
    },
    {
     "cell_type": "code",
     "collapsed": false,
     "input": [
      "len(no_txts)"
     ],
     "language": "python",
     "metadata": {},
     "outputs": [
      {
       "output_type": "pyout",
       "prompt_number": 81,
       "text": [
        "76"
       ]
      }
     ],
     "prompt_number": 81
    },
    {
     "cell_type": "code",
     "collapsed": false,
     "input": [
      "books[0]"
     ],
     "language": "python",
     "metadata": {},
     "outputs": [
      {
       "output_type": "pyout",
       "prompt_number": 82,
       "text": [
        "{'author': u'Tristan Der\\xe8me',\n",
        " 'cover': 'http://wolnelektury.pl/media/book/png/ach-rzucic-sieci-zdarte.png',\n",
        " 'href': 'http://wolnelektury.pl/api/books/ach-rzucic-sieci-zdarte/',\n",
        " 'liczba slow': 66,\n",
        " 'title': u'(Ach! rzuci\\u0107 sieci zdarte...)',\n",
        " 'txt': 'http://wolnelektury.pl/media/book/txt/ach-rzucic-sieci-zdarte_1.txt',\n",
        " 'url': 'http://wolnelektury.pl/katalog/lektura/ach-rzucic-sieci-zdarte/'}"
       ]
      }
     ],
     "prompt_number": 82
    },
    {
     "cell_type": "code",
     "collapsed": false,
     "input": [
      "json.dump(books, open(\"books2.json\", \"w\"), indent=2)"
     ],
     "language": "python",
     "metadata": {},
     "outputs": [],
     "prompt_number": 84
    },
    {
     "cell_type": "code",
     "collapsed": false,
     "input": [],
     "language": "python",
     "metadata": {},
     "outputs": []
    }
   ],
   "metadata": {}
  }
 ]
}