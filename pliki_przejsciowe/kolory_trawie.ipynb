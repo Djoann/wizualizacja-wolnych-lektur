{
 "metadata": {
  "name": "kolory_trawie"
 },
 "nbformat": 3,
 "nbformat_minor": 0,
 "worksheets": [
  {
   "cells": [
    {
     "cell_type": "code",
     "collapsed": false,
     "input": [
      "from bs4 import BeautifulSoup\n",
      "import requests\n",
      "import re\n",
      "# from lxml import etree\n",
      "import simplejson as json"
     ],
     "language": "python",
     "metadata": {},
     "outputs": [],
     "prompt_number": 69
    },
    {
     "cell_type": "code",
     "collapsed": false,
     "input": [
      "kolorywiki = requests.get(\"http://pl.wikipedia.org/wiki/Lista_kolor%C3%B3w\").content"
     ],
     "language": "python",
     "metadata": {},
     "outputs": [],
     "prompt_number": 2
    },
    {
     "cell_type": "code",
     "collapsed": false,
     "input": [
      "kolorowa_zupa = BeautifulSoup(kolorywiki)"
     ],
     "language": "python",
     "metadata": {},
     "outputs": [],
     "prompt_number": 3
    },
    {
     "cell_type": "code",
     "collapsed": false,
     "input": [
      "kolorowa_zupa.find_all(\"h2\")[3].text"
     ],
     "language": "python",
     "metadata": {},
     "outputs": [
      {
       "output_type": "pyout",
       "prompt_number": 21,
       "text": [
        "u'[edytuj] Kolory wed\\u0142ug odcieni'"
       ]
      }
     ],
     "prompt_number": 21
    },
    {
     "cell_type": "code",
     "collapsed": false,
     "input": [
      "kolory_grupowane = kolorowa_zupa.find_all(\"h2\")[3]"
     ],
     "language": "python",
     "metadata": {},
     "outputs": [],
     "prompt_number": 29
    },
    {
     "cell_type": "code",
     "collapsed": false,
     "input": [
      "z = kolory_grupowane.find_next(\"table\")"
     ],
     "language": "python",
     "metadata": {},
     "outputs": [],
     "prompt_number": 36
    },
    {
     "cell_type": "code",
     "collapsed": false,
     "input": [
      "kolorowa_zupa.find_all(text=re.compile(ur\"Kolory wed\\u0142ug odcieni\"))"
     ],
     "language": "python",
     "metadata": {},
     "outputs": [
      {
       "output_type": "pyout",
       "prompt_number": 26,
       "text": [
        "[u'Kolory wed\\u0142ug odcieni', u'Kolory wed\\u0142ug odcieni']"
       ]
      }
     ],
     "prompt_number": 26
    },
    {
     "cell_type": "code",
     "collapsed": false,
     "input": [
      "kolory_grupowane"
     ],
     "language": "python",
     "metadata": {},
     "outputs": [
      {
       "output_type": "pyout",
       "prompt_number": 30,
       "text": [
        "<h2><span class=\"editsection\">[<a href=\"/w/index.php?title=Lista_kolor%C3%B3w&amp;action=edit&amp;section=22\" title=\"Edytuj sekcj\u0119: Kolory wed\u0142ug odcieni\">edytuj</a>]</span> <span class=\"mw-headline\" id=\"Kolory_wed.C5.82ug_odcieni\">Kolory wed\u0142ug odcieni</span></h2>"
       ]
      }
     ],
     "prompt_number": 30
    },
    {
     "cell_type": "code",
     "collapsed": false,
     "input": [
      "wiersze = z.find_all(\"tr\")"
     ],
     "language": "python",
     "metadata": {},
     "outputs": [],
     "prompt_number": 44
    },
    {
     "cell_type": "code",
     "collapsed": false,
     "input": [
      "wiersze[1].td.text"
     ],
     "language": "python",
     "metadata": {},
     "outputs": [
      {
       "output_type": "pyout",
       "prompt_number": 50,
       "text": [
        "u'bia\\u0142y'"
       ]
      }
     ],
     "prompt_number": 50
    },
    {
     "cell_type": "code",
     "collapsed": false,
     "input": [
      "[[td.text for td in wiersz.find_all(\"td\")] for wiersz in wiersze[1:]];"
     ],
     "language": "python",
     "metadata": {},
     "outputs": [],
     "prompt_number": 52
    },
    {
     "cell_type": "code",
     "collapsed": false,
     "input": [
      "kolorki = kolorowa_zupa.find_all(\"h3\")[19:31]"
     ],
     "language": "python",
     "metadata": {},
     "outputs": [],
     "prompt_number": 59
    },
    {
     "cell_type": "code",
     "collapsed": false,
     "input": [
      "kolory_glowne = {}\n",
      "for kolor in kolorki:\n",
      "    wiersze = kolor.find_next(\"table\").find_all(\"tr\")\n",
      "    k = (kolor.text)[9:].lower()\n",
      "    v = [[td.text for td in wiersz.find_all(\"td\")] for wiersz in wiersze[1:]]\n",
      "    kolory_glowne[k] = v\n",
      "kolory_glowne[u\"cyjan\"] = []\n",
      "kolory_glowne[\"czer\u0144\"] = []"
     ],
     "language": "python",
     "metadata": {},
     "outputs": [],
     "prompt_number": 70
    },
    {
     "cell_type": "code",
     "collapsed": false,
     "input": [
      "kolory_glowne.keys()"
     ],
     "language": "python",
     "metadata": {},
     "outputs": [
      {
       "output_type": "pyout",
       "prompt_number": 66,
       "text": [
        "[u'r\\xf3\\u017c',\n",
        " u'szary',\n",
        " u'cyjan',\n",
        " u'fiolet',\n",
        " u'czerwie\\u0144',\n",
        " u'b\\u0142\\u0119kit',\n",
        " u'biel',\n",
        " u'ziele\\u0144',\n",
        " u'czer\\u0144',\n",
        " u'br\\u0105z',\n",
        " u'pomara\\u0144cz',\n",
        " u'\\u017c\\xf3\\u0142cie\\u0144']"
       ]
      }
     ],
     "prompt_number": 66
    },
    {
     "cell_type": "code",
     "collapsed": false,
     "input": [
      "kolory_glowne[\"fiolet\"]"
     ],
     "language": "python",
     "metadata": {},
     "outputs": [
      {
       "output_type": "pyout",
       "prompt_number": 67,
       "text": [
        "[[u'lawendowy',\n",
        "  '',\n",
        "  u'#9D6292',\n",
        "  u'201',\n",
        "  u'162',\n",
        "  u'191',\n",
        "  u'kolor lawendy, zgaszony fioletowy'],\n",
        " [u'ametystowy',\n",
        "  '',\n",
        "  u'#9966CC',\n",
        "  u'153',\n",
        "  u'102',\n",
        "  u'204',\n",
        "  u'purpurowo-fioletowy, kolor ametystu',\n",
        "  u'mineralogia'],\n",
        " [u'fioletowy', '', u'#B803FF', u'184', u'3', u'255', '', u'.'],\n",
        " [u'fio\\u0142kowy',\n",
        "  '',\n",
        "  u'#EE82EE',\n",
        "  u'238',\n",
        "  u'130',\n",
        "  u'238',\n",
        "  u'jasny fioletowy',\n",
        "  u'.'],\n",
        " [u'jagodowy',\n",
        "  '',\n",
        "  u'#4F86F7',\n",
        "  u'128',\n",
        "  u'0',\n",
        "  u'128',\n",
        "  u'ciemny fiolet z dodatkiem czerwieni',\n",
        "  u'.'],\n",
        " [u'niebieskofioletowy',\n",
        "  '',\n",
        "  u'#9F9FDF',\n",
        "  u'159',\n",
        "  u'159',\n",
        "  u'223',\n",
        "  u'Jasny kolor indygo',\n",
        "  u'.'],\n",
        " [u'purpurowy',\n",
        "  '',\n",
        "  u'#800080',\n",
        "  u'128',\n",
        "  u'0',\n",
        "  u'128',\n",
        "  u'czerwony zmieszany z fioletowym',\n",
        "  u'purple[1]'],\n",
        " [u'wrzosowy',\n",
        "  '',\n",
        "  u'#DBB0EF',\n",
        "  u'219',\n",
        "  u'176',\n",
        "  u'239',\n",
        "  u'j. fiolet (kwiat wrzosu)',\n",
        "  u'.']]"
       ]
      }
     ],
     "prompt_number": 67
    },
    {
     "cell_type": "code",
     "collapsed": false,
     "input": [
      "kolorki_alfabetycznie = kolorowa_zupa.find_all(\"h3\")[:19]\n",
      "kolory_all = []\n",
      "for kolor in kolorki_alfabetycznie:\n",
      "    wiersze = kolor.find_next(\"table\").find_all(\"tr\")\n",
      "    v = [[td.text for td in wiersz.find_all(\"td\")] for wiersz in wiersze[1:]]\n",
      "    kolory_all += v"
     ],
     "language": "python",
     "metadata": {},
     "outputs": [],
     "prompt_number": 76
    },
    {
     "cell_type": "code",
     "collapsed": false,
     "input": [
      "kolory_all[0]"
     ],
     "language": "python",
     "metadata": {},
     "outputs": [
      {
       "output_type": "pyout",
       "prompt_number": 79,
       "text": [
        "[u'akwamaryna',\n",
        " '',\n",
        " u'#7FFFD4',\n",
        " u'127',\n",
        " u'255',\n",
        " u'212',\n",
        " u'\"morska woda\", odcie\\u0144 zielononiebieski, barwa szlachetnej odmiany berylu o tej samej nazwie',\n",
        " u'.']"
       ]
      }
     ],
     "prompt_number": 79
    },
    {
     "cell_type": "code",
     "collapsed": false,
     "input": [
      "kolory_dict = {}\n",
      "headers = [\"hex\", \"r\", \"g\", \"b\"]\n",
      "kolory_dict = dict([ (kolor[0], dict(zip(headers, kolor[2:6]))) for kolor in kolory_all])"
     ],
     "language": "python",
     "metadata": {},
     "outputs": [],
     "prompt_number": 83
    },
    {
     "cell_type": "code",
     "collapsed": false,
     "input": [
      "json.dump(kolory_dict, open(\"kolory_dict.json\", \"w\"), indent=2);"
     ],
     "language": "python",
     "metadata": {},
     "outputs": [],
     "prompt_number": 95
    },
    {
     "cell_type": "code",
     "collapsed": false,
     "input": [
      "json.dump?"
     ],
     "language": "python",
     "metadata": {},
     "outputs": [],
     "prompt_number": 94
    },
    {
     "cell_type": "code",
     "collapsed": false,
     "input": [
      "!pwd"
     ],
     "language": "python",
     "metadata": {},
     "outputs": [
      {
       "output_type": "stream",
       "stream": "stdout",
       "text": [
        "/Users/piotrmigdal/Dropbox/Projects/Visualization\r\n"
       ]
      }
     ],
     "prompt_number": 90
    },
    {
     "cell_type": "code",
     "collapsed": false,
     "input": [],
     "language": "python",
     "metadata": {},
     "outputs": []
    }
   ],
   "metadata": {}
  }
 ]
}