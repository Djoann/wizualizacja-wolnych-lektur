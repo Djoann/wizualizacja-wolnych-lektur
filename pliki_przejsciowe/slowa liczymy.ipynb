{
 "metadata": {
  "name": "slowa liczymy"
 },
 "nbformat": 3,
 "nbformat_minor": 0,
 "worksheets": [
  {
   "cells": [
    {
     "cell_type": "code",
     "collapsed": false,
     "input": [
      "import grequests\n",
      "import requests\n",
      "import nltk\n",
      "from collections2 import Counter\n",
      "import simplejson as json\n",
      "import gevent"
     ],
     "language": "python",
     "metadata": {},
     "outputs": [],
     "prompt_number": 13
    },
    {
     "cell_type": "code",
     "collapsed": false,
     "input": [
      "def jget(url):\n",
      "    return json.loads(requests.get(url).content)"
     ],
     "language": "python",
     "metadata": {},
     "outputs": [],
     "prompt_number": 6
    },
    {
     "cell_type": "code",
     "collapsed": false,
     "input": [
      "books = jget(\"http://wolnelektury.pl/api/books/\")"
     ],
     "language": "python",
     "metadata": {},
     "outputs": [],
     "prompt_number": 7
    },
    {
     "cell_type": "code",
     "collapsed": false,
     "input": [
      "jget(books[0][\"href\"])"
     ],
     "language": "python",
     "metadata": {},
     "outputs": [
      {
       "output_type": "pyout",
       "prompt_number": 9,
       "text": [
        "{'authors': [{'href': 'http://wolnelektury.pl/api/authors/tristan-dereme/',\n",
        "   'name': u'Tristan Der\\xe8me',\n",
        "   'url': 'http://wolnelektury.pl/katalog/autor/tristan-dereme/'}],\n",
        " 'children': [],\n",
        " 'cover': 'http://wolnelektury.pl/media/book/png/ach-rzucic-sieci-zdarte.png',\n",
        " 'cover_thumb': 'http://wolnelektury.pl/media/cache/cb/49/cb497cf93aa445dd805f6ba3468fb70f.jpg',\n",
        " 'epochs': [{'href': 'http://wolnelektury.pl/api/epochs/modernizm/',\n",
        "   'name': 'Modernizm',\n",
        "   'url': 'http://wolnelektury.pl/katalog/epoka/modernizm/'}],\n",
        " 'epub': 'http://wolnelektury.pl/media/book/epub/ach-rzucic-sieci-zdarte_2.epub',\n",
        " 'fb2': 'http://wolnelektury.pl/media/book/fb2/ach-rzucic-sieci-zdarte_3.fb2',\n",
        " 'genres': [{'href': 'http://wolnelektury.pl/api/genres/wiersz/',\n",
        "   'name': 'Wiersz',\n",
        "   'url': 'http://wolnelektury.pl/katalog/gatunek/wiersz/'}],\n",
        " 'html': 'http://wolnelektury.pl/media/book/html/ach-rzucic-sieci-zdarte.html',\n",
        " 'kinds': [{'href': 'http://wolnelektury.pl/api/kinds/liryka/',\n",
        "   'name': 'Liryka',\n",
        "   'url': 'http://wolnelektury.pl/katalog/rodzaj/liryka/'}],\n",
        " 'media': [],\n",
        " 'mobi': 'http://wolnelektury.pl/media/book/mobi/ach-rzucic-sieci-zdarte.mobi',\n",
        " 'parent': None,\n",
        " 'pdf': 'http://wolnelektury.pl/media/book/pdf/ach-rzucic-sieci-zdarte_2.pdf',\n",
        " 'title': u'(Ach! rzuci\\u0107 sieci zdarte...)',\n",
        " 'txt': 'http://wolnelektury.pl/media/book/txt/ach-rzucic-sieci-zdarte_1.txt',\n",
        " 'url': 'http://wolnelektury.pl/katalog/lektura/ach-rzucic-sieci-zdarte/',\n",
        " 'xml': 'http://wolnelektury.pl/media/book/xml/ach-rzucic-sieci-zdarte.xml'}"
       ]
      }
     ],
     "prompt_number": 9
    },
    {
     "cell_type": "code",
     "collapsed": false,
     "input": [
      "bookapiinfo = [book[\"href\"] for book in books]"
     ],
     "language": "python",
     "metadata": {},
     "outputs": [],
     "prompt_number": 10
    },
    {
     "cell_type": "code",
     "collapsed": false,
     "input": [
      "rs = (grequests.get(u) for u in bookapiinfo)"
     ],
     "language": "python",
     "metadata": {},
     "outputs": [],
     "prompt_number": 11
    },
    {
     "cell_type": "raw",
     "metadata": {},
     "source": [
      "resp = grequests.map(rs)"
     ]
    },
    {
     "cell_type": "code",
     "collapsed": false,
     "input": [
      "res = {}\n",
      "def reqtodi(url):\n",
      "    try:\n",
      "        res[url] = jget(url)\n",
      "    except:\n",
      "        print \"Failure at: \", url\n",
      "gres = [gevent.spawn(reqtodi, book[\"href\"]) for book in books]\n",
      "gevent.joinall(gres)"
     ],
     "language": "python",
     "metadata": {},
     "outputs": [
      {
       "output_type": "stream",
       "stream": "stdout",
       "text": [
        "Failure at:  http://wolnelektury.pl/api/books/napoj-cienisty-postacie-cykl/\n",
        "Failure at: "
       ]
      },
      {
       "output_type": "stream",
       "stream": "stdout",
       "text": [
        " http://wolnelektury.pl/api/books/dziejba-lesna-i-poludnie/\n",
        "Failure at: "
       ]
      },
      {
       "output_type": "stream",
       "stream": "stdout",
       "text": [
        " http://wolnelektury.pl/api/books/slowka-zbior-polaly-sie-lzy-me-czyste-rzesiste/\n",
        "Failure at: "
       ]
      },
      {
       "output_type": "stream",
       "stream": "stdout",
       "text": [
        " http://wolnelektury.pl/api/books/liryki-lozanskie-polaly-sie-lzy/\n",
        "Failure at:  http://wolnelektury.pl/api/books/nuta-czlowiecza-polacy/\n",
        "Failure at: "
       ]
      },
      {
       "output_type": "stream",
       "stream": "stdout",
       "text": [
        " http://wolnelektury.pl/api/books/pogrzeb-kapitana-meyznera/\n",
        "Failure at: "
       ]
      },
      {
       "output_type": "stream",
       "stream": "stdout",
       "text": [
        " http://wolnelektury.pl/api/books/dziejba-lesna-iii-pogrzeb-don-zuana/\n",
        "Failure at:  http://wolnelektury.pl/api/books/dziejba-lesna-iv-pogrzeb/\n",
        "Failure at: "
       ]
      },
      {
       "output_type": "stream",
       "stream": "stdout",
       "text": [
        " http://wolnelektury.pl/api/books/poglady-ksiedza-hieronima-coignarda/\n",
        "Failure at:  http://wolnelektury.pl/api/books/poeta-i-natchnienie/\n",
        "Failure at:  http://wolnelektury.pl/api/books/podrozny-i-kaleka/\n",
        "Failure at:  http://wolnelektury.pl/api/books/napoj-cienisty-poeta/\n",
        "Failure at:  http://wolnelektury.pl/api/books/podrzutek/\n",
        "Failure at: "
       ]
      },
      {
       "output_type": "stream",
       "stream": "stdout",
       "text": [
        " http://wolnelektury.pl/api/books/slowka-zbior-pochwala-wieku-dojrzalego/\n",
        "Failure at: "
       ]
      },
      {
       "output_type": "stream",
       "stream": "stdout",
       "text": [
        " http://wolnelektury.pl/api/books/satyry-czesc-druga-pochwala-wieku/\n",
        "Failure at:  http://wolnelektury.pl/api/books/slowka-zbior-piosenki-zb-pochwala-ojcostwa/\n",
        "Failure at: "
       ]
      },
      {
       "output_type": "stream",
       "stream": "stdout",
       "text": [
        " http://wolnelektury.pl/api/books/przypomnienie-dawnej-milosci/\n",
        "Failure at:  http://wolnelektury.pl/api/books/ballada-z-tamtej-strony-pontorson/\n",
        "Failure at: "
       ]
      },
      {
       "output_type": "stream",
       "stream": "stdout",
       "text": [
        " http://wolnelektury.pl/api/books/fraszki-ksiegi-pierwsze-raki/\n",
        "Failure at:  http://wolnelektury.pl/api/books/poskromienie-zlosnicy/\n",
        "Failure at:  http://wolnelektury.pl/api/books/dzien-jak-co-dzien-ranek/\n",
        "Failure at: "
       ]
      },
      {
       "output_type": "stream",
       "stream": "stdout",
       "text": [
        " http://wolnelektury.pl/api/books/ballada-z-tamtej-strony-przez-kresy/\n",
        "Failure at:  http://wolnelektury.pl/api/books/kwiaty-zla-podroz/\n",
        "Failure at: "
       ]
      },
      {
       "output_type": "stream",
       "stream": "stdout",
       "text": [
        " http://wolnelektury.pl/api/books/dziady-dziadow-czesci-iii-ustep-pomnik-piotra-wielkiego/\n",
        "Failure at: "
       ]
      },
      {
       "output_type": "stream",
       "stream": "stdout",
       "text": [
        " http://wolnelektury.pl/api/books/podrozny/\n",
        "Failure at: "
       ]
      },
      {
       "output_type": "stream",
       "stream": "stdout",
       "text": [
        " http://wolnelektury.pl/api/books/slowka-zbior-piosenki-zb-piosenka-wzruszajaca/\n",
        "Failure at:  http://wolnelektury.pl/api/books/slowka-zbior-piosenki-zb-piosenka-w-stylu-klasycznym/\n",
        "Failure at:  http://wolnelektury.pl/api/books/slowka-zbior-piosenki-zb-piosenka-sentymentalna/\n",
        "Failure at:  http://wolnelektury.pl/api/books/louys-piosenka-o-mroku-lesny/\n",
        "Failure at:  http://wolnelektury.pl/api/books/louys-piosenka-dziewczyno/\n",
        "Failure at:  http://wolnelektury.pl/api/books/nuta-czlowiecza-piosenka-czeski-domek/\n",
        "Failure at: "
       ]
      },
      {
       "output_type": "stream",
       "stream": "stdout",
       "text": [
        " http://wolnelektury.pl/api/books/pijak/\n",
        "Failure at:  http://wolnelektury.pl/api/books/kwiaty-zla-piekno/\n",
        "Failure at:  http://wolnelektury.pl/api/books/napoj-cienisty-piosenka/\n",
        "Failure at: "
       ]
      },
      {
       "output_type": "stream",
       "stream": "stdout",
       "text": [
        " http://wolnelektury.pl/api/books/piekna-nasza-polska-cala/\n",
        "Failure at:  http://wolnelektury.pl/api/books/bertrand-piec-palcow-dloni/\n",
        "Failure at:  http://wolnelektury.pl/api/books/satyry-czesc-druga-pochwala-glupstwa/\n",
        "Failure at: "
       ]
      },
      {
       "output_type": "stream",
       "stream": "stdout",
       "text": [
        " http://wolnelektury.pl/api/books/pieta/\n",
        "Failure at: "
       ]
      },
      {
       "output_type": "stream",
       "stream": "stdout",
       "text": [
        " http://wolnelektury.pl/api/books/piesni-ksiegi-pierwsze-piesn-xxiv/\n",
        "Failure at:  http://wolnelektury.pl/api/books/piesni-ksiegi-wtore-piesn-xxiv/\n",
        "Failure at:  http://wolnelektury.pl/api/books/piesni-ksiegi-wtore-piesn-xx/\n",
        "Failure at:  http://wolnelektury.pl/api/books/piesni-ksiegi-wtore-piesn-xxii/\n",
        "Failure at: "
       ]
      },
      {
       "output_type": "stream",
       "stream": "stdout",
       "text": [
        " http://wolnelektury.pl/api/books/pochodnia-i-swieca-bajki-nowe/\n",
        "Failure at:  http://wolnelektury.pl/api/books/piesni-ksiegi-pierwsze-piesn-xx/\n",
        "Failure at:  http://wolnelektury.pl/api/books/napoj-cienisty-po-smierci/\n",
        "Failure at:  http://wolnelektury.pl/api/books/slowka-zbior-piosenki-zb-pobudka/\n",
        "Failure at: "
       ]
      },
      {
       "output_type": "stream",
       "stream": "stdout",
       "text": [
        " http://wolnelektury.pl/api/books/piesni-ksiegi-wtore-piesn-xiv/\n",
        "Failure at:  http://wolnelektury.pl/api/books/napoj-cienisty-poranek/\n",
        "Failure at: "
       ]
      },
      {
       "output_type": "stream",
       "stream": "stdout",
       "text": [
        " http://wolnelektury.pl/api/books/piesni-ksiegi-pierwsze-piesn-vii/\n",
        "Failure at: "
       ]
      },
      {
       "output_type": "stream",
       "stream": "stdout",
       "text": [
        " http://wolnelektury.pl/api/books/but-w-butonierce-podrozniczki/\n",
        "Failure at:  http://wolnelektury.pl/api/books/satyry-czesc-druga-podroz/\n",
        "Failure at:  http://wolnelektury.pl/api/books/po-ciemku/\n",
        "Failure at:  http://wolnelektury.pl/api/books/podczas-burzy/\n",
        "Failure at:  http://wolnelektury.pl/api/books/pod-wrazeniem/\n",
        "Failure at:  http://wolnelektury.pl/api/books/pod-stara-wierzba/\n",
        "Failure at:  http://wolnelektury.pl/api/books/przerwa-tetmajer-podczas-wiatru-z-tatr/\n",
        "Failure at:  http://wolnelektury.pl/api/books/klechdy-polskie-podlasiak/\n",
        "Failure at:  http://wolnelektury.pl/api/books/platon-bajki-nowe/\n",
        "Failure at: "
       ]
      },
      {
       "output_type": "stream",
       "stream": "stdout",
       "text": [
        " http://wolnelektury.pl/api/books/fragmenta-piesn-viii-kiedy-sie-rane-zapalaja-zorza/\n",
        "Failure at:  http://wolnelektury.pl/api/books/piesni-ksiegi-wtore-piesn-viii/\n",
        "Failure at: "
       ]
      },
      {
       "output_type": "stream",
       "stream": "stdout",
       "text": [
        " http://wolnelektury.pl/api/books/napoj-cienisty-postacie/\n",
        "Failure at:  http://wolnelektury.pl/api/books/portret-owalny/\n",
        "Failure at:  http://wolnelektury.pl/api/books/kwiaty-zla-posmiertne-zale/\n",
        "Failure at: "
       ]
      },
      {
       "output_type": "stream",
       "stream": "stdout",
       "text": [
        " http://wolnelektury.pl/api/books/katechizm-polskiego-dziecka-polska-mowa/\n",
        "Failure at:  http://wolnelektury.pl/api/books/polowa-zycia/\n",
        "Failure at: "
       ]
      },
      {
       "output_type": "stream",
       "stream": "stdout",
       "text": [
        " http://wolnelektury.pl/api/books/po-pniu-i-po-bocianie/\n",
        "Failure at:  http://wolnelektury.pl/api/books/napoj-cienisty-po-deszczu/\n",
        "Failure at: "
       ]
      },
      {
       "output_type": "stream",
       "stream": "stdout",
       "text": [
        " http://wolnelektury.pl/api/books/piesni-ksiegi-pierwsze-piesn-xvi/\n",
        "Failure at:  http://wolnelektury.pl/api/books/piesni-ksiegi-wtore-piesn-xvii/\n",
        "Failure at: "
       ]
      },
      {
       "output_type": "stream",
       "stream": "stdout",
       "text": [
        " http://wolnelektury.pl/api/books/satyry-czesc-druga-pochwaly-milczenia/\n",
        "Failure at:  http://wolnelektury.pl/api/books/ballada-z-tamtej-strony-pod-popiolem/\n",
        "Failure at:  http://wolnelektury.pl/api/books/nuta-czlowiecza-pod-dworcem-glownym-w-warszawie/\n",
        "Failure at: "
       ]
      },
      {
       "output_type": "stream",
       "stream": "stdout",
       "text": [
        " http://wolnelektury.pl/api/books/przerwa-tetmajer-potok-symboliczny/\n",
        "Failure at: "
       ]
      },
      {
       "output_type": "stream",
       "stream": "stdout",
       "text": [
        " http://wolnelektury.pl/api/books/pomoc-dajcie-mi-rodacy/\n",
        "Failure at:  http://wolnelektury.pl/api/books/popas-w-upicie/\n",
        "Failure at:  http://wolnelektury.pl/api/books/porta-nigra/\n",
        "Failure at:  http://wolnelektury.pl/api/books/polny-kwiatek/\n",
        "Failure at:  http://wolnelektury.pl/api/books/polonez-kosciuszki/\n",
        "Failure at: "
       ]
      },
      {
       "ename": "KeyboardInterrupt",
       "evalue": "",
       "output_type": "pyerr",
       "traceback": [
        "\u001b[0;31m---------------------------------------------------------------------------\u001b[0m\n\u001b[0;31mKeyboardInterrupt\u001b[0m                         Traceback (most recent call last)",
        "\u001b[0;32m<ipython-input-19-e0bb8d81ee95>\u001b[0m in \u001b[0;36m<module>\u001b[0;34m()\u001b[0m\n\u001b[1;32m      6\u001b[0m         \u001b[0;32mprint\u001b[0m \u001b[0;34m\"Failure at: \"\u001b[0m\u001b[0;34m,\u001b[0m \u001b[0murl\u001b[0m\u001b[0;34m\u001b[0m\u001b[0m\n\u001b[1;32m      7\u001b[0m \u001b[0mgres\u001b[0m \u001b[0;34m=\u001b[0m \u001b[0;34m[\u001b[0m\u001b[0mgevent\u001b[0m\u001b[0;34m.\u001b[0m\u001b[0mspawn\u001b[0m\u001b[0;34m(\u001b[0m\u001b[0mreqtodi\u001b[0m\u001b[0;34m,\u001b[0m \u001b[0mbook\u001b[0m\u001b[0;34m[\u001b[0m\u001b[0;34m\"href\"\u001b[0m\u001b[0;34m]\u001b[0m\u001b[0;34m)\u001b[0m \u001b[0;32mfor\u001b[0m \u001b[0mbook\u001b[0m \u001b[0;32min\u001b[0m \u001b[0mbooks\u001b[0m\u001b[0;34m]\u001b[0m\u001b[0;34m\u001b[0m\u001b[0m\n\u001b[0;32m----> 8\u001b[0;31m \u001b[0mgevent\u001b[0m\u001b[0;34m.\u001b[0m\u001b[0mjoinall\u001b[0m\u001b[0;34m(\u001b[0m\u001b[0mgres\u001b[0m\u001b[0;34m)\u001b[0m\u001b[0;34m\u001b[0m\u001b[0m\n\u001b[0m",
        "\u001b[0;32m/Library/Frameworks/Python.framework/Versions/2.6/lib/python2.6/site-packages/gevent-1.0dev-py2.6-macosx-10.3-intel.egg/gevent/greenlet.pyc\u001b[0m in \u001b[0;36mjoinall\u001b[0;34m(greenlets, timeout, raise_error, count)\u001b[0m\n\u001b[1;32m    399\u001b[0m \u001b[0;32mdef\u001b[0m \u001b[0mjoinall\u001b[0m\u001b[0;34m(\u001b[0m\u001b[0mgreenlets\u001b[0m\u001b[0;34m,\u001b[0m \u001b[0mtimeout\u001b[0m\u001b[0;34m=\u001b[0m\u001b[0mNone\u001b[0m\u001b[0;34m,\u001b[0m \u001b[0mraise_error\u001b[0m\u001b[0;34m=\u001b[0m\u001b[0mFalse\u001b[0m\u001b[0;34m,\u001b[0m \u001b[0mcount\u001b[0m\u001b[0;34m=\u001b[0m\u001b[0mNone\u001b[0m\u001b[0;34m)\u001b[0m\u001b[0;34m:\u001b[0m\u001b[0;34m\u001b[0m\u001b[0m\n\u001b[1;32m    400\u001b[0m     \u001b[0;32mif\u001b[0m \u001b[0;32mnot\u001b[0m \u001b[0mraise_error\u001b[0m\u001b[0;34m:\u001b[0m\u001b[0;34m\u001b[0m\u001b[0m\n\u001b[0;32m--> 401\u001b[0;31m         \u001b[0mwait\u001b[0m\u001b[0;34m(\u001b[0m\u001b[0mgreenlets\u001b[0m\u001b[0;34m,\u001b[0m \u001b[0mtimeout\u001b[0m\u001b[0;34m=\u001b[0m\u001b[0mtimeout\u001b[0m\u001b[0;34m)\u001b[0m\u001b[0;34m\u001b[0m\u001b[0m\n\u001b[0m\u001b[1;32m    402\u001b[0m     \u001b[0;32melse\u001b[0m\u001b[0;34m:\u001b[0m\u001b[0;34m\u001b[0m\u001b[0m\n\u001b[1;32m    403\u001b[0m         \u001b[0;32mfor\u001b[0m \u001b[0mobj\u001b[0m \u001b[0;32min\u001b[0m \u001b[0miwait\u001b[0m\u001b[0;34m(\u001b[0m\u001b[0mgreenlets\u001b[0m\u001b[0;34m,\u001b[0m \u001b[0mtimeout\u001b[0m\u001b[0;34m=\u001b[0m\u001b[0mtimeout\u001b[0m\u001b[0;34m)\u001b[0m\u001b[0;34m:\u001b[0m\u001b[0;34m\u001b[0m\u001b[0m\n",
        "\u001b[0;32m/Library/Frameworks/Python.framework/Versions/2.6/lib/python2.6/site-packages/gevent-1.0dev-py2.6-macosx-10.3-intel.egg/gevent/hub.pyc\u001b[0m in \u001b[0;36mwait\u001b[0;34m(objects, timeout, count)\u001b[0m\n\u001b[1;32m    640\u001b[0m     \u001b[0mresult\u001b[0m \u001b[0;34m=\u001b[0m \u001b[0;34m[\u001b[0m\u001b[0;34m]\u001b[0m\u001b[0;34m\u001b[0m\u001b[0m\n\u001b[1;32m    641\u001b[0m     \u001b[0;32mif\u001b[0m \u001b[0mcount\u001b[0m \u001b[0;32mis\u001b[0m \u001b[0mNone\u001b[0m\u001b[0;34m:\u001b[0m\u001b[0;34m\u001b[0m\u001b[0m\n\u001b[0;32m--> 642\u001b[0;31m         \u001b[0;32mreturn\u001b[0m \u001b[0mlist\u001b[0m\u001b[0;34m(\u001b[0m\u001b[0miwait\u001b[0m\u001b[0;34m(\u001b[0m\u001b[0mobjects\u001b[0m\u001b[0;34m,\u001b[0m \u001b[0mtimeout\u001b[0m\u001b[0;34m)\u001b[0m\u001b[0;34m)\u001b[0m\u001b[0;34m\u001b[0m\u001b[0m\n\u001b[0m\u001b[1;32m    643\u001b[0m     \u001b[0;32mfor\u001b[0m \u001b[0mobj\u001b[0m \u001b[0;32min\u001b[0m \u001b[0miwait\u001b[0m\u001b[0;34m(\u001b[0m\u001b[0mobjects\u001b[0m\u001b[0;34m=\u001b[0m\u001b[0mobjects\u001b[0m\u001b[0;34m,\u001b[0m \u001b[0mtimeout\u001b[0m\u001b[0;34m=\u001b[0m\u001b[0mtimeout\u001b[0m\u001b[0;34m)\u001b[0m\u001b[0;34m:\u001b[0m\u001b[0;34m\u001b[0m\u001b[0m\n\u001b[1;32m    644\u001b[0m         \u001b[0mresult\u001b[0m\u001b[0;34m.\u001b[0m\u001b[0mappend\u001b[0m\u001b[0;34m(\u001b[0m\u001b[0mobj\u001b[0m\u001b[0;34m)\u001b[0m\u001b[0;34m\u001b[0m\u001b[0m\n",
        "\u001b[0;32m/Library/Frameworks/Python.framework/Versions/2.6/lib/python2.6/site-packages/gevent-1.0dev-py2.6-macosx-10.3-intel.egg/gevent/hub.pyc\u001b[0m in \u001b[0;36miwait\u001b[0;34m(objects, timeout)\u001b[0m\n\u001b[1;32m    625\u001b[0m             \u001b[0mobj\u001b[0m\u001b[0;34m.\u001b[0m\u001b[0mrawlink\u001b[0m\u001b[0;34m(\u001b[0m\u001b[0mswitch\u001b[0m\u001b[0;34m)\u001b[0m\u001b[0;34m\u001b[0m\u001b[0m\n\u001b[1;32m    626\u001b[0m         \u001b[0;32mfor\u001b[0m \u001b[0m_\u001b[0m \u001b[0;32min\u001b[0m \u001b[0mxrange\u001b[0m\u001b[0;34m(\u001b[0m\u001b[0mcount\u001b[0m\u001b[0;34m)\u001b[0m\u001b[0;34m:\u001b[0m\u001b[0;34m\u001b[0m\u001b[0m\n\u001b[0;32m--> 627\u001b[0;31m             \u001b[0mitem\u001b[0m \u001b[0;34m=\u001b[0m \u001b[0mwaiter\u001b[0m\u001b[0;34m.\u001b[0m\u001b[0mget\u001b[0m\u001b[0;34m(\u001b[0m\u001b[0;34m)\u001b[0m\u001b[0;34m\u001b[0m\u001b[0m\n\u001b[0m\u001b[1;32m    628\u001b[0m             \u001b[0mwaiter\u001b[0m\u001b[0;34m.\u001b[0m\u001b[0mclear\u001b[0m\u001b[0;34m(\u001b[0m\u001b[0;34m)\u001b[0m\u001b[0;34m\u001b[0m\u001b[0m\n\u001b[1;32m    629\u001b[0m             \u001b[0;32mif\u001b[0m \u001b[0mitem\u001b[0m \u001b[0;32mis\u001b[0m \u001b[0m_NONE\u001b[0m\u001b[0;34m:\u001b[0m\u001b[0;34m\u001b[0m\u001b[0m\n",
        "\u001b[0;32m/Library/Frameworks/Python.framework/Versions/2.6/lib/python2.6/site-packages/gevent-1.0dev-py2.6-macosx-10.3-intel.egg/gevent/hub.pyc\u001b[0m in \u001b[0;36mget\u001b[0;34m(self)\u001b[0m\n\u001b[1;32m    600\u001b[0m             \u001b[0mself\u001b[0m\u001b[0;34m.\u001b[0m\u001b[0mgreenlet\u001b[0m \u001b[0;34m=\u001b[0m \u001b[0mgetcurrent\u001b[0m\u001b[0;34m(\u001b[0m\u001b[0;34m)\u001b[0m\u001b[0;34m\u001b[0m\u001b[0m\n\u001b[1;32m    601\u001b[0m             \u001b[0;32mtry\u001b[0m\u001b[0;34m:\u001b[0m\u001b[0;34m\u001b[0m\u001b[0m\n\u001b[0;32m--> 602\u001b[0;31m                 \u001b[0;32mreturn\u001b[0m \u001b[0mself\u001b[0m\u001b[0;34m.\u001b[0m\u001b[0mhub\u001b[0m\u001b[0;34m.\u001b[0m\u001b[0mswitch\u001b[0m\u001b[0;34m(\u001b[0m\u001b[0;34m)\u001b[0m\u001b[0;34m\u001b[0m\u001b[0m\n\u001b[0m\u001b[1;32m    603\u001b[0m             \u001b[0;32mfinally\u001b[0m\u001b[0;34m:\u001b[0m\u001b[0;34m\u001b[0m\u001b[0m\n\u001b[1;32m    604\u001b[0m                 \u001b[0mself\u001b[0m\u001b[0;34m.\u001b[0m\u001b[0mgreenlet\u001b[0m \u001b[0;34m=\u001b[0m \u001b[0mNone\u001b[0m\u001b[0;34m\u001b[0m\u001b[0m\n",
        "\u001b[0;32m/Library/Frameworks/Python.framework/Versions/2.6/lib/python2.6/site-packages/gevent-1.0dev-py2.6-macosx-10.3-intel.egg/gevent/hub.pyc\u001b[0m in \u001b[0;36mswitch\u001b[0;34m(self)\u001b[0m\n\u001b[1;32m    365\u001b[0m                 \u001b[0mswitch_out\u001b[0m\u001b[0;34m(\u001b[0m\u001b[0;34m)\u001b[0m\u001b[0;34m\u001b[0m\u001b[0m\n\u001b[1;32m    366\u001b[0m             \u001b[0mexc_clear\u001b[0m\u001b[0;34m(\u001b[0m\u001b[0;34m)\u001b[0m\u001b[0;34m\u001b[0m\u001b[0m\n\u001b[0;32m--> 367\u001b[0;31m             \u001b[0;32mreturn\u001b[0m \u001b[0mgreenlet\u001b[0m\u001b[0;34m.\u001b[0m\u001b[0mswitch\u001b[0m\u001b[0;34m(\u001b[0m\u001b[0mself\u001b[0m\u001b[0;34m)\u001b[0m\u001b[0;34m\u001b[0m\u001b[0m\n\u001b[0m\u001b[1;32m    368\u001b[0m         \u001b[0;32mfinally\u001b[0m\u001b[0;34m:\u001b[0m\u001b[0;34m\u001b[0m\u001b[0m\n\u001b[1;32m    369\u001b[0m             \u001b[0mset_exc_info\u001b[0m\u001b[0;34m(\u001b[0m\u001b[0mexc_type\u001b[0m\u001b[0;34m,\u001b[0m \u001b[0mexc_value\u001b[0m\u001b[0;34m)\u001b[0m\u001b[0;34m\u001b[0m\u001b[0m\n",
        "\u001b[0;31mKeyboardInterrupt\u001b[0m: "
       ]
      },
      {
       "output_type": "stream",
       "stream": "stdout",
       "text": [
        " http://wolnelektury.pl/api/books/podrozny-bajki-nowe/\n",
        "Failure at:  http://wolnelektury.pl/api/books/podroze-guliwera/\n"
       ]
      },
      {
       "output_type": "stream",
       "stream": "stderr",
       "text": [
        "KeyboardInterrupt\n"
       ]
      }
     ],
     "prompt_number": 19
    },
    {
     "cell_type": "code",
     "collapsed": false,
     "input": [
      "len(res)"
     ],
     "language": "python",
     "metadata": {},
     "outputs": [
      {
       "output_type": "pyout",
       "prompt_number": 17,
       "text": [
        "10"
       ]
      }
     ],
     "prompt_number": 17
    },
    {
     "cell_type": "code",
     "collapsed": false,
     "input": [
      "jget(\"http://wolnelektury.pl/api/books/portret-owalny/\")"
     ],
     "language": "python",
     "metadata": {},
     "outputs": [
      {
       "output_type": "stream",
       "stream": "stdout",
       "text": [
        "Failure at:  http://wolnelektury.pl/api/books/kipling-puk-z-pukowej-gorki/\n",
        "Failure at:  http://wolnelektury.pl/api/books/gusla-iii-ptaszki-sw-franciszka/\n",
        "Failure at: "
       ]
      },
      {
       "output_type": "stream",
       "stream": "stdout",
       "text": [
        " http://wolnelektury.pl/api/books/slowka-zbior-piosenki-zb-pozegnanie/\n",
        "Failure at:  http://wolnelektury.pl/api/books/przerwa-tetmajer-pochwala-dawnej-dzielnosci-greckiej/\n"
       ]
      },
      {
       "output_type": "pyout",
       "prompt_number": 21,
       "text": [
        "{'authors': [{'href': 'http://wolnelektury.pl/api/authors/edgar-allan-poe/',\n",
        "   'name': 'Edgar Allan Poe',\n",
        "   'url': 'http://wolnelektury.pl/katalog/autor/edgar-allan-poe/'}],\n",
        " 'children': [],\n",
        " 'cover': 'http://wolnelektury.pl/media/book/png/portret-owalny_2.png',\n",
        " 'cover_thumb': 'http://wolnelektury.pl/media/cache/c8/6a/c86aad381fc505eb1b475f73b7578f59.jpg',\n",
        " 'epochs': [{'href': 'http://wolnelektury.pl/api/epochs/romantyzm/',\n",
        "   'name': 'Romantyzm',\n",
        "   'url': 'http://wolnelektury.pl/katalog/epoka/romantyzm/'}],\n",
        " 'epub': 'http://wolnelektury.pl/media/book/epub/portret-owalny_2.epub',\n",
        " 'fb2': 'http://wolnelektury.pl/media/book/fb2/portret-owalny_2.fb2',\n",
        " 'genres': [{'href': 'http://wolnelektury.pl/api/genres/opowiadanie/',\n",
        "   'name': 'Opowiadanie',\n",
        "   'url': 'http://wolnelektury.pl/katalog/gatunek/opowiadanie/'}],\n",
        " 'html': 'http://wolnelektury.pl/media/book/html/portret-owalny_2.html',\n",
        " 'kinds': [{'href': 'http://wolnelektury.pl/api/kinds/epika/',\n",
        "   'name': 'Epika',\n",
        "   'url': 'http://wolnelektury.pl/katalog/rodzaj/epika/'}],\n",
        " 'media': [{'artist': '',\n",
        "   'director': '',\n",
        "   'name': u'Edgar Allan Poe, \\u201ePortret owalny\\u201d',\n",
        "   'type': 'daisy',\n",
        "   'url': 'http://wolnelektury.pl/media/book/daisy.zip/edgar-allan-poe-portret-owalny.daisy.zip'},\n",
        "  {'artist': 'Wiktor Korzeniewski',\n",
        "   'director': u'Adam Bie\\u0144',\n",
        "   'name': 'Edgar Allan Poe, \"Portret owalny\"',\n",
        "   'type': 'mp3',\n",
        "   'url': 'http://wolnelektury.pl/media/book/mp3/edgar-allan-poe-portret-owalny.mp3'},\n",
        "  {'artist': 'Wiktor Korzeniewski',\n",
        "   'director': u'Adam Bie\\u0144',\n",
        "   'name': 'Edgar Allan Poe, \"Portret owalny\"',\n",
        "   'type': 'ogg',\n",
        "   'url': 'http://wolnelektury.pl/media/book/ogg/edgar-allan-poe-portret-owalny.ogg'}],\n",
        " 'mobi': 'http://wolnelektury.pl/media/book/mobi/portret-owalny_1.mobi',\n",
        " 'parent': None,\n",
        " 'pdf': 'http://wolnelektury.pl/media/book/pdf/portret-owalny_2.pdf',\n",
        " 'title': 'Portret owalny',\n",
        " 'txt': 'http://wolnelektury.pl/media/book/txt/portret-owalny.txt',\n",
        " 'url': 'http://wolnelektury.pl/katalog/lektura/portret-owalny/',\n",
        " 'xml': 'http://wolnelektury.pl/media/book/xml/portret-owalny.xml'}"
       ]
      }
     ],
     "prompt_number": 21
    },
    {
     "cell_type": "code",
     "collapsed": false,
     "input": [],
     "language": "python",
     "metadata": {},
     "outputs": []
    }
   ],
   "metadata": {}
  }
 ]
}