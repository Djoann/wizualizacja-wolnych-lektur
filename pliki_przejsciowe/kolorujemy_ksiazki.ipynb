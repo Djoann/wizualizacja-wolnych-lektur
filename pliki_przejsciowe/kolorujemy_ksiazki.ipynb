{
 "metadata": {
  "name": "kolorujemy_ksiazki"
 },
 "nbformat": 3,
 "nbformat_minor": 0,
 "worksheets": [
  {
   "cells": [
    {
     "cell_type": "code",
     "collapsed": false,
     "input": [
      "import requests\n",
      "from collections2 import Counter\n",
      "import simplejson as json\n",
      "import re"
     ],
     "language": "python",
     "metadata": {},
     "outputs": [],
     "prompt_number": 2
    },
    {
     "cell_type": "code",
     "collapsed": false,
     "input": [
      "books = json.load(open(\"books2.json\"))\n",
      "color_stem = json.load(open(\"stemmizer_kolory.json\"))\n",
      "colors = json.load(open(\"kolory_nowe.json\"))"
     ],
     "language": "python",
     "metadata": {},
     "outputs": [],
     "prompt_number": 9
    },
    {
     "cell_type": "code",
     "collapsed": false,
     "input": [
      "def root_word(word, stem_dict):\n",
      "    if word in stem_dict:\n",
      "        return stem_dict[word]\n",
      "    else:\n",
      "        return word"
     ],
     "language": "python",
     "metadata": {},
     "outputs": [],
     "prompt_number": 11
    },
    {
     "cell_type": "code",
     "collapsed": false,
     "input": [
      "books[0]"
     ],
     "language": "python",
     "metadata": {},
     "outputs": [
      {
       "output_type": "pyout",
       "prompt_number": 10,
       "text": [
        "{'author': u'Tristan Der\\xe8me',\n",
        " 'cover': 'http://wolnelektury.pl/media/book/png/ach-rzucic-sieci-zdarte.png',\n",
        " 'href': 'http://wolnelektury.pl/api/books/ach-rzucic-sieci-zdarte/',\n",
        " 'title': u'(Ach! rzuci\\u0107 sieci zdarte...)',\n",
        " 'txt': 'http://wolnelektury.pl/media/book/txt/ach-rzucic-sieci-zdarte_1.txt',\n",
        " 'url': 'http://wolnelektury.pl/katalog/lektura/ach-rzucic-sieci-zdarte/',\n",
        " 'word count': 66}"
       ]
      }
     ],
     "prompt_number": 10
    },
    {
     "cell_type": "code",
     "collapsed": true,
     "input": [
      "for i, book in enumerate(books[99:102]):\n",
      "    if \"txt\" in book and book[\"txt\"] != '':\n",
      "        try:\n",
      "            text = requests.get(book[\"txt\"]).content.decode(\"utf-8\")\n",
      "        except:\n",
      "            print \"%s file is not working!\" % book[\"title\"]\n",
      "            continue\n",
      "        pos_start = text.find(\"\\n\\n\\n\")\n",
      "        pos_end = text.find(\"-----\\nTa lektura, podobnie jak\")\n",
      "        words = re.findall(ur\"[\\w]+\", text[pos_start:pos_end].lower(), re.UNICODE)\n",
      "        book[\"word_count\"] = len(words)\n",
      "        counts_all = Counter(words)\n",
      "        counts_colors = {}\n",
      "        total_color_count = 0\n",
      "        for w, c in counts_all.items():\n",
      "            word = root_word(w, color_stem)\n",
      "            if word in colors:\n",
      "                total_color_count += c\n",
      "                if word in counts_colors:\n",
      "                    counts_colors[word] += c\n",
      "                else:\n",
      "                    counts_colors[word] = c\n",
      "        counts_colors = sorted(counts_colors.items(), key=lambda x: -x[1])\n",
      "        book[\"color_count\"] = total_color_count\n",
      "        book[\"colors\"] = [{\"name\": k, \"count\": v, \"r\": colors[k][\"r\"],\n",
      "                           \"g\": colors[k][\"g\"], \"b\": colors[k][\"b\"]} for k, v in counts_colors]\n",
      "        if i % 50 == 0:\n",
      "            print \"%d / %d\" % (i, len(books))\n",
      "        "
     ],
     "language": "python",
     "metadata": {},
     "outputs": [
      {
       "output_type": "stream",
       "stream": "stdout",
       "text": [
        "0 / 2114\n"
       ]
      }
     ],
     "prompt_number": 47
    },
    {
     "cell_type": "code",
     "collapsed": false,
     "input": [
      "books[9]"
     ],
     "language": "python",
     "metadata": {},
     "outputs": [
      {
       "output_type": "pyout",
       "prompt_number": 32,
       "text": [
        "{'author': u'Mi\\u0142osz Biedrzycki',\n",
        " 'color count': 3,\n",
        " 'color_count': 3,\n",
        " 'colors': [{'b': 0, 'count': 2, 'g': 0, 'name': 'czarny', 'r': 0},\n",
        "  {'b': 0, 'count': 1, 'g': 0, 'name': 'czerwony', 'r': 255}],\n",
        " 'cover': 'http://wolnelektury.pl/media/book/jpg/dobry-wieczor-nazywam-sie-mickiewicz.jpg',\n",
        " 'href': 'http://wolnelektury.pl/api/books/dobry-wieczor-nazywam-sie-mickiewicz/',\n",
        " 'title': u'*** (Dobry wiecz\\xf3r, nazywam si\\u0119 Mickiewicz...)',\n",
        " 'txt': 'http://wolnelektury.pl/media/book/txt/dobry-wieczor-nazywam-sie-mickiewicz_2.txt',\n",
        " 'url': 'http://wolnelektury.pl/katalog/lektura/dobry-wieczor-nazywam-sie-mickiewicz/',\n",
        " 'word count': 196}"
       ]
      }
     ],
     "prompt_number": 32
    },
    {
     "cell_type": "code",
     "collapsed": false,
     "input": [
      "json.dump([book for book in books[:20] if book[\"color_count\"]], open(\"colored_books.json\", \"w\"), indent=2)"
     ],
     "language": "python",
     "metadata": {},
     "outputs": [],
     "prompt_number": 36
    },
    {
     "cell_type": "code",
     "collapsed": false,
     "input": [
      "books[101]"
     ],
     "language": "python",
     "metadata": {},
     "outputs": [
      {
       "output_type": "pyout",
       "prompt_number": 44,
       "text": [
        "{'author': 'Ignacy Krasicki',\n",
        " 'cover': 'http://wolnelektury.pl/media/book/png/bajki-i-przypowiesci_3.png',\n",
        " 'href': 'http://wolnelektury.pl/api/books/bajki-i-przypowiesci/',\n",
        " 'title': u'Bajki i przypowie\\u015bci',\n",
        " 'txt': '',\n",
        " 'url': 'http://wolnelektury.pl/katalog/lektura/bajki-i-przypowiesci/',\n",
        " 'word count': 91}"
       ]
      }
     ],
     "prompt_number": 44
    },
    {
     "cell_type": "code",
     "collapsed": false,
     "input": [
      "books[65]"
     ],
     "language": "python",
     "metadata": {},
     "outputs": [
      {
       "output_type": "pyout",
       "prompt_number": 40,
       "text": [
        "{'author': 'Jules Gabriel Verne',\n",
        " 'cover': 'http://wolnelektury.pl/media/book/jpg/20-000-mil-podmorskiej-zeglugi_2.jpg',\n",
        " 'href': 'http://wolnelektury.pl/api/books/20-000-mil-podmorskiej-zeglugi/',\n",
        " 'title': u'20 000 mil podmorskiej \\u017ceglugi',\n",
        " 'txt': 'http://wolnelektury.pl/media/book/txt/20-000-mil-podmorskiej-zeglugi_2.txt',\n",
        " 'url': 'http://wolnelektury.pl/katalog/lektura/20-000-mil-podmorskiej-zeglugi/',\n",
        " 'word count': 305}"
       ]
      }
     ],
     "prompt_number": 40
    },
    {
     "cell_type": "code",
     "collapsed": false,
     "input": [],
     "language": "python",
     "metadata": {},
     "outputs": []
    }
   ],
   "metadata": {}
  }
 ]
}